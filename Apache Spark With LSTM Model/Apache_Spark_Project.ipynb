{
  "nbformat": 4,
  "nbformat_minor": 0,
  "metadata": {
    "colab": {
      "provenance": []
    },
    "kernelspec": {
      "name": "python3",
      "display_name": "Python 3"
    },
    "language_info": {
      "name": "python"
    },
    "accelerator": "GPU",
    "gpuClass": "standard"
  },
  "cells": [
    {
      "cell_type": "markdown",
      "source": [
        "##> Full Process To Analyse Big Data Using Apache Spark and Python"
      ],
      "metadata": {
        "id": "bFHlguuCj_Hm"
      }
    },
    {
      "cell_type": "code",
      "source": [],
      "metadata": {
        "id": "T06jsnup3jA7"
      },
      "execution_count": null,
      "outputs": []
    },
    {
      "cell_type": "markdown",
      "source": [
        "### 1 _ Import Required Librarys"
      ],
      "metadata": {
        "id": "zApWcTD_kR3p"
      }
    },
    {
      "cell_type": "code",
      "source": [],
      "metadata": {
        "id": "YSMJxQXu3ivL"
      },
      "execution_count": null,
      "outputs": []
    },
    {
      "cell_type": "code",
      "execution_count": 1,
      "metadata": {
        "colab": {
          "base_uri": "https://localhost:8080/"
        },
        "id": "TITfGBSEj8Kx",
        "outputId": "cf905077-eba5-4c54-8d39-65e3a7828e36"
      },
      "outputs": [
        {
          "output_type": "stream",
          "name": "stdout",
          "text": [
            "openjdk 11.0.17 2022-10-18\n",
            "OpenJDK Runtime Environment (build 11.0.17+8-post-Ubuntu-1ubuntu218.04)\n",
            "OpenJDK 64-Bit Server VM (build 11.0.17+8-post-Ubuntu-1ubuntu218.04, mixed mode, sharing)\n"
          ]
        }
      ],
      "source": [
        "# First of all we should make sure of the version of JAVA that we have\n",
        "!java --version"
      ]
    },
    {
      "cell_type": "code",
      "source": [
        "# Configiration of Alternative java version , no need in case of having one single java version\n",
        "!sudo update-alternatives --config java"
      ],
      "metadata": {
        "colab": {
          "base_uri": "https://localhost:8080/"
        },
        "id": "hnE-mii3lJL7",
        "outputId": "82f63cd9-20a5-44ef-d117-1723e9bc408f"
      },
      "execution_count": 2,
      "outputs": [
        {
          "output_type": "stream",
          "name": "stdout",
          "text": [
            "There is only one alternative in link group java (providing /usr/bin/java): /usr/lib/jvm/java-11-openjdk-amd64/bin/java\n",
            "Nothing to configure.\n"
          ]
        }
      ]
    },
    {
      "cell_type": "code",
      "source": [
        "# Even that google colab have all needed requireds , there is still more to add\n",
        "!pip install -q findspark\n",
        "!pip install pyspark\n",
        "!pip install google-cloud-bigquery"
      ],
      "metadata": {
        "colab": {
          "base_uri": "https://localhost:8080/"
        },
        "id": "eot0G2pYlWUj",
        "outputId": "b7ce6614-088c-4b23-afb7-598d5c5598a2"
      },
      "execution_count": 3,
      "outputs": [
        {
          "output_type": "stream",
          "name": "stdout",
          "text": [
            "Looking in indexes: https://pypi.org/simple, https://us-python.pkg.dev/colab-wheels/public/simple/\n",
            "Collecting pyspark\n",
            "  Downloading pyspark-3.3.1.tar.gz (281.4 MB)\n",
            "\u001b[K     |████████████████████████████████| 281.4 MB 47 kB/s \n",
            "\u001b[?25hCollecting py4j==0.10.9.5\n",
            "  Downloading py4j-0.10.9.5-py2.py3-none-any.whl (199 kB)\n",
            "\u001b[K     |████████████████████████████████| 199 kB 66.1 MB/s \n",
            "\u001b[?25hBuilding wheels for collected packages: pyspark\n",
            "  Building wheel for pyspark (setup.py) ... \u001b[?25l\u001b[?25hdone\n",
            "  Created wheel for pyspark: filename=pyspark-3.3.1-py2.py3-none-any.whl size=281845512 sha256=c28c6d1ecb98b74f810dc849a01338a53a7e6091cca39e12f26710b13ae4a45e\n",
            "  Stored in directory: /root/.cache/pip/wheels/43/dc/11/ec201cd671da62fa9c5cc77078235e40722170ceba231d7598\n",
            "Successfully built pyspark\n",
            "Installing collected packages: py4j, pyspark\n",
            "Successfully installed py4j-0.10.9.5 pyspark-3.3.1\n",
            "Looking in indexes: https://pypi.org/simple, https://us-python.pkg.dev/colab-wheels/public/simple/\n",
            "Requirement already satisfied: google-cloud-bigquery in /usr/local/lib/python3.8/dist-packages (3.3.6)\n",
            "Requirement already satisfied: python-dateutil<3.0dev,>=2.7.2 in /usr/local/lib/python3.8/dist-packages (from google-cloud-bigquery) (2.8.2)\n",
            "Requirement already satisfied: google-api-core[grpc]!=2.0.*,!=2.1.*,!=2.2.*,!=2.3.0,<3.0.0dev,>=1.31.5 in /usr/local/lib/python3.8/dist-packages (from google-cloud-bigquery) (2.8.2)\n",
            "Requirement already satisfied: requests<3.0.0dev,>=2.21.0 in /usr/local/lib/python3.8/dist-packages (from google-cloud-bigquery) (2.23.0)\n",
            "Requirement already satisfied: packaging<22.0.0dev,>=14.3 in /usr/local/lib/python3.8/dist-packages (from google-cloud-bigquery) (21.3)\n",
            "Requirement already satisfied: google-resumable-media<3.0dev,>=0.6.0 in /usr/local/lib/python3.8/dist-packages (from google-cloud-bigquery) (2.4.0)\n",
            "Requirement already satisfied: proto-plus<2.0.0dev,>=1.22.0 in /usr/local/lib/python3.8/dist-packages (from google-cloud-bigquery) (1.22.1)\n",
            "Requirement already satisfied: protobuf!=3.20.0,!=3.20.1,!=4.21.0,!=4.21.1,!=4.21.2,!=4.21.3,!=4.21.4,!=4.21.5,<5.0.0dev,>=3.19.5 in /usr/local/lib/python3.8/dist-packages (from google-cloud-bigquery) (3.19.6)\n",
            "Requirement already satisfied: pyarrow<11.0dev,>=3.0.0 in /usr/local/lib/python3.8/dist-packages (from google-cloud-bigquery) (9.0.0)\n",
            "Requirement already satisfied: google-cloud-bigquery-storage<3.0.0dev,>=2.0.0 in /usr/local/lib/python3.8/dist-packages (from google-cloud-bigquery) (2.16.2)\n",
            "Requirement already satisfied: grpcio<2.0dev,>=1.47.0 in /usr/local/lib/python3.8/dist-packages (from google-cloud-bigquery) (1.51.1)\n",
            "Requirement already satisfied: google-cloud-core<3.0.0dev,>=1.4.1 in /usr/local/lib/python3.8/dist-packages (from google-cloud-bigquery) (2.3.2)\n",
            "Requirement already satisfied: googleapis-common-protos<2.0dev,>=1.56.2 in /usr/local/lib/python3.8/dist-packages (from google-api-core[grpc]!=2.0.*,!=2.1.*,!=2.2.*,!=2.3.0,<3.0.0dev,>=1.31.5->google-cloud-bigquery) (1.57.0)\n",
            "Requirement already satisfied: google-auth<3.0dev,>=1.25.0 in /usr/local/lib/python3.8/dist-packages (from google-api-core[grpc]!=2.0.*,!=2.1.*,!=2.2.*,!=2.3.0,<3.0.0dev,>=1.31.5->google-cloud-bigquery) (2.15.0)\n",
            "Requirement already satisfied: grpcio-status<2.0dev,>=1.33.2 in /usr/local/lib/python3.8/dist-packages (from google-api-core[grpc]!=2.0.*,!=2.1.*,!=2.2.*,!=2.3.0,<3.0.0dev,>=1.31.5->google-cloud-bigquery) (1.48.2)\n",
            "Requirement already satisfied: rsa<5,>=3.1.4 in /usr/local/lib/python3.8/dist-packages (from google-auth<3.0dev,>=1.25.0->google-api-core[grpc]!=2.0.*,!=2.1.*,!=2.2.*,!=2.3.0,<3.0.0dev,>=1.31.5->google-cloud-bigquery) (4.9)\n",
            "Requirement already satisfied: cachetools<6.0,>=2.0.0 in /usr/local/lib/python3.8/dist-packages (from google-auth<3.0dev,>=1.25.0->google-api-core[grpc]!=2.0.*,!=2.1.*,!=2.2.*,!=2.3.0,<3.0.0dev,>=1.31.5->google-cloud-bigquery) (5.2.0)\n",
            "Requirement already satisfied: pyasn1-modules>=0.2.1 in /usr/local/lib/python3.8/dist-packages (from google-auth<3.0dev,>=1.25.0->google-api-core[grpc]!=2.0.*,!=2.1.*,!=2.2.*,!=2.3.0,<3.0.0dev,>=1.31.5->google-cloud-bigquery) (0.2.8)\n",
            "Requirement already satisfied: six>=1.9.0 in /usr/local/lib/python3.8/dist-packages (from google-auth<3.0dev,>=1.25.0->google-api-core[grpc]!=2.0.*,!=2.1.*,!=2.2.*,!=2.3.0,<3.0.0dev,>=1.31.5->google-cloud-bigquery) (1.15.0)\n",
            "Requirement already satisfied: google-crc32c<2.0dev,>=1.0 in /usr/local/lib/python3.8/dist-packages (from google-resumable-media<3.0dev,>=0.6.0->google-cloud-bigquery) (1.5.0)\n",
            "Requirement already satisfied: pyparsing!=3.0.5,>=2.0.2 in /usr/local/lib/python3.8/dist-packages (from packaging<22.0.0dev,>=14.3->google-cloud-bigquery) (3.0.9)\n",
            "Requirement already satisfied: numpy>=1.16.6 in /usr/local/lib/python3.8/dist-packages (from pyarrow<11.0dev,>=3.0.0->google-cloud-bigquery) (1.21.6)\n",
            "Requirement already satisfied: pyasn1<0.5.0,>=0.4.6 in /usr/local/lib/python3.8/dist-packages (from pyasn1-modules>=0.2.1->google-auth<3.0dev,>=1.25.0->google-api-core[grpc]!=2.0.*,!=2.1.*,!=2.2.*,!=2.3.0,<3.0.0dev,>=1.31.5->google-cloud-bigquery) (0.4.8)\n",
            "Requirement already satisfied: chardet<4,>=3.0.2 in /usr/local/lib/python3.8/dist-packages (from requests<3.0.0dev,>=2.21.0->google-cloud-bigquery) (3.0.4)\n",
            "Requirement already satisfied: certifi>=2017.4.17 in /usr/local/lib/python3.8/dist-packages (from requests<3.0.0dev,>=2.21.0->google-cloud-bigquery) (2022.12.7)\n",
            "Requirement already satisfied: idna<3,>=2.5 in /usr/local/lib/python3.8/dist-packages (from requests<3.0.0dev,>=2.21.0->google-cloud-bigquery) (2.10)\n",
            "Requirement already satisfied: urllib3!=1.25.0,!=1.25.1,<1.26,>=1.21.1 in /usr/local/lib/python3.8/dist-packages (from requests<3.0.0dev,>=2.21.0->google-cloud-bigquery) (1.24.3)\n"
          ]
        }
      ]
    },
    {
      "cell_type": "code",
      "source": [
        "# for more better performance , it will be better to use nvedia with the GPU\n",
        "!nvidia-smi"
      ],
      "metadata": {
        "colab": {
          "base_uri": "https://localhost:8080/"
        },
        "id": "uhf5QzBZluLY",
        "outputId": "f72404a1-4683-484e-e7fa-2fdae94c780c"
      },
      "execution_count": 4,
      "outputs": [
        {
          "output_type": "stream",
          "name": "stdout",
          "text": [
            "Tue Dec 20 09:00:22 2022       \n",
            "+-----------------------------------------------------------------------------+\n",
            "| NVIDIA-SMI 460.32.03    Driver Version: 460.32.03    CUDA Version: 11.2     |\n",
            "|-------------------------------+----------------------+----------------------+\n",
            "| GPU  Name        Persistence-M| Bus-Id        Disp.A | Volatile Uncorr. ECC |\n",
            "| Fan  Temp  Perf  Pwr:Usage/Cap|         Memory-Usage | GPU-Util  Compute M. |\n",
            "|                               |                      |               MIG M. |\n",
            "|===============================+======================+======================|\n",
            "|   0  Tesla T4            Off  | 00000000:00:04.0 Off |                    0 |\n",
            "| N/A   66C    P0    31W /  70W |      0MiB / 15109MiB |      0%      Default |\n",
            "|                               |                      |                  N/A |\n",
            "+-------------------------------+----------------------+----------------------+\n",
            "                                                                               \n",
            "+-----------------------------------------------------------------------------+\n",
            "| Processes:                                                                  |\n",
            "|  GPU   GI   CI        PID   Type   Process name                  GPU Memory |\n",
            "|        ID   ID                                                   Usage      |\n",
            "|=============================================================================|\n",
            "|  No running processes found                                                 |\n",
            "+-----------------------------------------------------------------------------+\n"
          ]
        }
      ]
    },
    {
      "cell_type": "markdown",
      "source": [
        "### 2 _ Inistialise Spark Envirement"
      ],
      "metadata": {
        "id": "7sFlJ0HOnCT9"
      }
    },
    {
      "cell_type": "code",
      "source": [
        "# We can start with inisialse spark finder\n",
        "import findspark\n",
        "findspark.init()"
      ],
      "metadata": {
        "id": "n3OyIAEzmD03"
      },
      "execution_count": 5,
      "outputs": []
    },
    {
      "cell_type": "code",
      "source": [
        "# Next we can use the SparkSession\n",
        "from pyspark.sql import SparkSession"
      ],
      "metadata": {
        "id": "oGDhr9wwncjS"
      },
      "execution_count": 6,
      "outputs": []
    },
    {
      "cell_type": "markdown",
      "source": [],
      "metadata": {
        "id": "UKauqn8o4E6d"
      }
    },
    {
      "cell_type": "code",
      "source": [
        "# Next we need to import all pyspark sql manipulation functions\n",
        "from pyspark.sql.functions import *"
      ],
      "metadata": {
        "id": "sslU9dfJni6k"
      },
      "execution_count": 7,
      "outputs": []
    },
    {
      "cell_type": "code",
      "source": [
        "# We need now to initialse our session instance\n",
        "spark = SparkSession.builder \\\n",
        "    .appName(\"LSTM App\") \\\n",
        "    .getOrCreate()"
      ],
      "metadata": {
        "id": "oLLj00L4onQI"
      },
      "execution_count": 8,
      "outputs": []
    },
    {
      "cell_type": "markdown",
      "source": [
        "### 3 _ Creating And Reading DataFrame"
      ],
      "metadata": {
        "id": "fl-fvxoXpN6P"
      }
    },
    {
      "cell_type": "code",
      "source": [
        "# The database we gonna use is a good example of Big Data , that containe more than 22 milion line\n",
        "sql = \"\"\"SELECT * FROM `fair-sandbox-321621.iowa_liquor_retail_sales.sales` LIMIT 100000\"\"\" "
      ],
      "metadata": {
        "id": "AOb5QorupUA5"
      },
      "execution_count": 9,
      "outputs": []
    },
    {
      "cell_type": "code",
      "source": [
        "# the database is saved in Big Query so we are going to read it from there\n",
        "from pandas.io import gbq"
      ],
      "metadata": {
        "id": "nGzd1nIKpkQf"
      },
      "execution_count": 10,
      "outputs": []
    },
    {
      "cell_type": "code",
      "source": [
        "# now its time to read the data base\n",
        "# since we are going to use spark data frame , we are going to use the createDataFrame function\n",
        "rdd = spark.createDataFrame(\n",
        "          gbq.read_gbq(\n",
        "              sql,\n",
        "              project_id='fair-sandbox-321621'\n",
        "          )\n",
        "      )"
      ],
      "metadata": {
        "colab": {
          "base_uri": "https://localhost:8080/"
        },
        "id": "WUmD6mn9pxWV",
        "outputId": "22c89961-2beb-4ca2-e584-1a97ac473f1d"
      },
      "execution_count": 11,
      "outputs": [
        {
          "name": "stdout",
          "output_type": "stream",
          "text": [
            "Please visit this URL to authorize this application: https://accounts.google.com/o/oauth2/auth?response_type=code&client_id=725825577420-unm2gnkiprugilg743tkbig250f4sfsj.apps.googleusercontent.com&redirect_uri=urn%3Aietf%3Awg%3Aoauth%3A2.0%3Aoob&scope=https%3A%2F%2Fwww.googleapis.com%2Fauth%2Fbigquery&state=IlzJfGTCrxF7xkT2i6Ci8786siskxf&prompt=consent&access_type=offline\n",
            "Enter the authorization code: 4/1AWgavdcrsL-48wt59Wfh7ReBYmsrArws5xoFyb1W4hb7J0WOoo9HaVTUekc\n"
          ]
        }
      ]
    },
    {
      "cell_type": "code",
      "source": [
        "# all data type in spark is stored in a form of RDD (Resilient Distributed Dataset)\n",
        "rdd.show(5)"
      ],
      "metadata": {
        "colab": {
          "base_uri": "https://localhost:8080/"
        },
        "id": "dkoAmbQnqdau",
        "outputId": "456d716e-1bf7-4ab4-e596-306052e9ada1"
      },
      "execution_count": 12,
      "outputs": [
        {
          "output_type": "stream",
          "name": "stdout",
          "text": [
            "+-----------------------+----------+------------+--------------------+----------------+---------------+--------+--------------------+-------------+----------+---------+--------------------+-------------+--------------------+-----------+--------------------+----+----------------+-----------------+-------------------+------------+------------+------------------+-------------------+\n",
            "|invoice_and_item_number|      date|store_number|          store_name|         address|           city|zip_code|      store_location|county_number|    county| category|       category_name|vendor_number|         vendor_name|item_number|    item_description|pack|bottle_volume_ml|state_bottle_cost|state_bottle_retail|bottles_sold|sale_dollars|volume_sold_liters|volume_sold_gallons|\n",
            "+-----------------------+----------+------------+--------------------+----------------+---------------+--------+--------------------+-------------+----------+---------+--------------------+-------------+--------------------+-----------+--------------------+----+----------------+-----------------+-------------------+------------+------------+------------------+-------------------+\n",
            "|        INV-26755100067|2020-04-22|        5068|TOBACCO SHOP / AR...|612 S HIGHWAY 71|   ARNOLDS PARK| 51331.0|POINT(-95.140274 ...|           30| DICKINSON|1082000.0|IMPORTED CORDIALS...|        192.0|MAST-JAGERMEISTER...|      65259|JAGERMEISTER LIQU...|  12|              20|             4.93|                7.4|           1|         7.4|              0.02|                0.0|\n",
            "|        INV-23178200002|2019-11-12|        4902|     BROADWAY LIQUOR| 821 BROADWAY ST|       WATERLOO| 50703.0|POINT(-92.345144 ...|            7|BLACK HAWK|1082000.0|IMPORTED CORDIALS...|        192.0|MAST-JAGERMEISTER...|      65259|JAGERMEISTER LIQU...|  12|              20|             4.93|                7.4|           1|         7.4|              0.02|                0.0|\n",
            "|        INV-37598400099|2021-06-17|        2515|HY-VEE FOOD STORE...|  2400 4TH ST SW|     MASON CITY| 50401.0|POINT(-93.235588 ...|           17|CERRO GORD|1082100.0|IMPORTED CORDIALS...|          192|MAST-JAGERMEISTER...|      65259|JAGERMEISTER LIQU...|  12|              20|             4.93|                7.4|           1|         7.4|              0.02|                0.0|\n",
            "|        INV-23344300200|2019-11-19|        2621|HY-VEE FOOD STORE...|  3301 GORDON DR|     SIOUX CITY| 51105.0|POINT(-96.364108 ...|           97|  WOODBURY|1082000.0|IMPORTED CORDIALS...|        192.0|MAST-JAGERMEISTER...|      65259|JAGERMEISTER LIQU...|  12|              20|             4.93|                7.4|           1|         7.4|              0.02|                0.0|\n",
            "|        INV-43289400037|2021-12-27|        4068|       SA PETRO MART|     136  1ST ST|WEST DES MOINES| 50265.0|POINT(-93.703345 ...|           77|      POLK|1082100.0|IMPORTED CORDIALS...|          192|MAST-JAGERMEISTER...|      65259|JAGERMEISTER LIQU...|  12|              20|             4.93|                7.4|           1|         7.4|              0.02|                0.0|\n",
            "+-----------------------+----------+------------+--------------------+----------------+---------------+--------+--------------------+-------------+----------+---------+--------------------+-------------+--------------------+-----------+--------------------+----+----------------+-----------------+-------------------+------------+------------+------------------+-------------------+\n",
            "only showing top 5 rows\n",
            "\n"
          ]
        }
      ]
    },
    {
      "cell_type": "markdown",
      "source": [
        "### 4 _ Manupilation Of ApacheSpark DataFrame"
      ],
      "metadata": {
        "id": "qGNDLZpEq89K"
      }
    },
    {
      "cell_type": "code",
      "source": [
        "# first of all we gonna show all dataframe columns\n",
        "rdd.columns"
      ],
      "metadata": {
        "colab": {
          "base_uri": "https://localhost:8080/"
        },
        "id": "FfVFW998q66r",
        "outputId": "dd7a5bc1-b563-41ce-cf5b-5ec5ed7f4861"
      },
      "execution_count": 13,
      "outputs": [
        {
          "output_type": "execute_result",
          "data": {
            "text/plain": [
              "['invoice_and_item_number',\n",
              " 'date',\n",
              " 'store_number',\n",
              " 'store_name',\n",
              " 'address',\n",
              " 'city',\n",
              " 'zip_code',\n",
              " 'store_location',\n",
              " 'county_number',\n",
              " 'county',\n",
              " 'category',\n",
              " 'category_name',\n",
              " 'vendor_number',\n",
              " 'vendor_name',\n",
              " 'item_number',\n",
              " 'item_description',\n",
              " 'pack',\n",
              " 'bottle_volume_ml',\n",
              " 'state_bottle_cost',\n",
              " 'state_bottle_retail',\n",
              " 'bottles_sold',\n",
              " 'sale_dollars',\n",
              " 'volume_sold_liters',\n",
              " 'volume_sold_gallons']"
            ]
          },
          "metadata": {},
          "execution_count": 13
        }
      ]
    },
    {
      "cell_type": "code",
      "source": [
        "# We can next show the shape of our dataset\n",
        "print((rdd.count(),len(rdd.columns)))"
      ],
      "metadata": {
        "colab": {
          "base_uri": "https://localhost:8080/"
        },
        "id": "2uuJYD9eud20",
        "outputId": "457180de-9730-4cd2-f436-395fbdc269a6"
      },
      "execution_count": 14,
      "outputs": [
        {
          "output_type": "stream",
          "name": "stdout",
          "text": [
            "(100000, 24)\n"
          ]
        }
      ]
    },
    {
      "cell_type": "code",
      "source": [
        "# Spark also use another function to describe database shema\n",
        "rdd.printSchema() "
      ],
      "metadata": {
        "colab": {
          "base_uri": "https://localhost:8080/"
        },
        "id": "BAC9py0buo_e",
        "outputId": "efca15f6-0c49-4f78-f2ec-bc1763d89e82"
      },
      "execution_count": 15,
      "outputs": [
        {
          "output_type": "stream",
          "name": "stdout",
          "text": [
            "root\n",
            " |-- invoice_and_item_number: string (nullable = true)\n",
            " |-- date: date (nullable = true)\n",
            " |-- store_number: string (nullable = true)\n",
            " |-- store_name: string (nullable = true)\n",
            " |-- address: string (nullable = true)\n",
            " |-- city: string (nullable = true)\n",
            " |-- zip_code: string (nullable = true)\n",
            " |-- store_location: string (nullable = true)\n",
            " |-- county_number: string (nullable = true)\n",
            " |-- county: string (nullable = true)\n",
            " |-- category: string (nullable = true)\n",
            " |-- category_name: string (nullable = true)\n",
            " |-- vendor_number: string (nullable = true)\n",
            " |-- vendor_name: string (nullable = true)\n",
            " |-- item_number: string (nullable = true)\n",
            " |-- item_description: string (nullable = true)\n",
            " |-- pack: long (nullable = true)\n",
            " |-- bottle_volume_ml: long (nullable = true)\n",
            " |-- state_bottle_cost: double (nullable = true)\n",
            " |-- state_bottle_retail: double (nullable = true)\n",
            " |-- bottles_sold: long (nullable = true)\n",
            " |-- sale_dollars: double (nullable = true)\n",
            " |-- volume_sold_liters: double (nullable = true)\n",
            " |-- volume_sold_gallons: double (nullable = true)\n",
            "\n"
          ]
        }
      ]
    },
    {
      "cell_type": "code",
      "source": [
        "# we can also show a full description of our databse\n",
        "rdd.describe().show()"
      ],
      "metadata": {
        "colab": {
          "base_uri": "https://localhost:8080/"
        },
        "id": "4ut9jrznu3ZS",
        "outputId": "fbcc762b-935f-4e2f-ec60-a7c243c156ff"
      },
      "execution_count": 16,
      "outputs": [
        {
          "output_type": "stream",
          "name": "stdout",
          "text": [
            "+-------+-----------------------+-----------------+--------------------+--------------------+-------+-----------------+--------------------+------------------+------+------------------+---------------+------------------+--------------------+-----------------+--------------------+------------------+-----------------+------------------+-------------------+------------------+------------------+------------------+-------------------+\n",
            "|summary|invoice_and_item_number|     store_number|          store_name|             address|   city|         zip_code|      store_location|     county_number|county|          category|  category_name|     vendor_number|         vendor_name|      item_number|    item_description|              pack| bottle_volume_ml| state_bottle_cost|state_bottle_retail|      bottles_sold|      sale_dollars|volume_sold_liters|volume_sold_gallons|\n",
            "+-------+-----------------------+-----------------+--------------------+--------------------+-------+-----------------+--------------------+------------------+------+------------------+---------------+------------------+--------------------+-----------------+--------------------+------------------+-----------------+------------------+-------------------+------------------+------------------+------------------+-------------------+\n",
            "|  count|                 100000|           100000|              100000|               99682|  99682|            99682|               90130|             98088| 99272|             99908|          99841|            100000|              100000|           100000|              100000|            100000|           100000|            100000|             100000|            100000|            100000|            100000|             100000|\n",
            "|   mean|            3.7890001E8|       3682.33108|                null|                null|   null| 51239.0759806135|                null|58.254383818611856|  null|1041954.6554129799|           null|         253.46497|                null|       43075.6888|                null|          11.60203|        905.50025| 9.447829999998557| 14.190442699999695|          12.75795|162.43093669997535|10.231653599999873| 2.7035637000016473|\n",
            "| stddev|                   null|991.2914053861946|                null|                null|   null|997.8742182426785|                null|26.951868576098168|  null| 69477.15576336507|           null|137.19902925544062|                null|66888.11864048874|                null|5.1472589619960205|455.5289162785111|6.3205258698602895|  9.480632481587906|24.268778946082477|472.99081722278953|28.848295205210476|  7.620766083262196|\n",
            "|    min|              378900010|            10019|\"DOUBLE \"\"D\"\" LIQ...|         1, GROVE RD| ACKLEY|            50002|POINT(-73.982421 ...|                 1| ADAIR|         1011100.0|100 PROOF VODKA|                10| 3 BADGE CORPORATION|           100006|\"JOSE CUERVO SILV...|                 1|               20|               0.0|                0.0|                 1|               0.0|              0.02|                0.0|\n",
            "|    max|           S34159000001|             9927|ZAPF'S PRONTO MARKET|PO BOX 261  310 W...|ZWINGLE|            712-2|POINT(-96.56323 4...|                99|WRIGHT|         1901200.0|      WHITE RUM|             978.0|YAHARA BAY DISTIL...|           999911|           ZYR VODKA|               288|             5250|            186.94|             280.41|              3960|           78249.6|            3960.0|            1046.12|\n",
            "+-------+-----------------------+-----------------+--------------------+--------------------+-------+-----------------+--------------------+------------------+------+------------------+---------------+------------------+--------------------+-----------------+--------------------+------------------+-----------------+------------------+-------------------+------------------+------------------+------------------+-------------------+\n",
            "\n"
          ]
        }
      ]
    },
    {
      "cell_type": "code",
      "source": [
        "# We can use the following function to drop any duplication \n",
        "rdd.dropDuplicates()"
      ],
      "metadata": {
        "colab": {
          "base_uri": "https://localhost:8080/"
        },
        "id": "7BYPDorzvFJ6",
        "outputId": "e1546499-b4c0-4bce-b1de-0b807dbbcfdd"
      },
      "execution_count": 17,
      "outputs": [
        {
          "output_type": "execute_result",
          "data": {
            "text/plain": [
              "DataFrame[invoice_and_item_number: string, date: date, store_number: string, store_name: string, address: string, city: string, zip_code: string, store_location: string, county_number: string, county: string, category: string, category_name: string, vendor_number: string, vendor_name: string, item_number: string, item_description: string, pack: bigint, bottle_volume_ml: bigint, state_bottle_cost: double, state_bottle_retail: double, bottles_sold: bigint, sale_dollars: double, volume_sold_liters: double, volume_sold_gallons: double]"
            ]
          },
          "metadata": {},
          "execution_count": 17
        }
      ]
    },
    {
      "cell_type": "code",
      "source": [
        "# We gonna use also the filter function no find any null values\n",
        "{col:rdd.filter(rdd[col].isNull()).count() for col in rdd.columns}"
      ],
      "metadata": {
        "colab": {
          "base_uri": "https://localhost:8080/"
        },
        "id": "YAMnxfOnvQEk",
        "outputId": "e06dff95-7143-4199-bc10-bd1e109fc0e8"
      },
      "execution_count": 18,
      "outputs": [
        {
          "output_type": "execute_result",
          "data": {
            "text/plain": [
              "{'invoice_and_item_number': 0,\n",
              " 'date': 0,\n",
              " 'store_number': 0,\n",
              " 'store_name': 0,\n",
              " 'address': 318,\n",
              " 'city': 318,\n",
              " 'zip_code': 318,\n",
              " 'store_location': 9870,\n",
              " 'county_number': 1912,\n",
              " 'county': 728,\n",
              " 'category': 92,\n",
              " 'category_name': 159,\n",
              " 'vendor_number': 0,\n",
              " 'vendor_name': 0,\n",
              " 'item_number': 0,\n",
              " 'item_description': 0,\n",
              " 'pack': 0,\n",
              " 'bottle_volume_ml': 0,\n",
              " 'state_bottle_cost': 0,\n",
              " 'state_bottle_retail': 0,\n",
              " 'bottles_sold': 0,\n",
              " 'sale_dollars': 0,\n",
              " 'volume_sold_liters': 0,\n",
              " 'volume_sold_gallons': 0}"
            ]
          },
          "metadata": {},
          "execution_count": 18
        }
      ]
    },
    {
      "cell_type": "markdown",
      "source": [
        "### 5 _ Creating the dataWarehouse"
      ],
      "metadata": {
        "id": "_1hvTECZx8Q0"
      }
    },
    {
      "cell_type": "code",
      "source": [
        "# lets make sure that the sales are not negative\n",
        "rdd.where(rdd.sale_dollars < 0).count()"
      ],
      "metadata": {
        "colab": {
          "base_uri": "https://localhost:8080/"
        },
        "id": "xWoAdc4Zy1e1",
        "outputId": "b1de0772-4eaa-4396-f4b1-834f146b459b"
      },
      "execution_count": 19,
      "outputs": [
        {
          "output_type": "execute_result",
          "data": {
            "text/plain": [
              "0"
            ]
          },
          "metadata": {},
          "execution_count": 19
        }
      ]
    },
    {
      "cell_type": "code",
      "source": [
        "# First of all we gonna start with filling all the Null Values with 0\n",
        "rdd.fillna(\n",
        "          0, subset=[\n",
        "                      'bottle_volume_ml', \n",
        "                      'state_bottle_cost' ,\n",
        "                      'state_bottle_retail' ,\n",
        "                      'bottles_sold',\n",
        "                      'sale_dollars',\n",
        "                      'volume_sold_liters'\n",
        "                      ]\n",
        "           )"
      ],
      "metadata": {
        "colab": {
          "base_uri": "https://localhost:8080/"
        },
        "id": "8C4oFOFSyJl_",
        "outputId": "30f4e0da-faad-4b69-c3fd-ca85f657cec6"
      },
      "execution_count": 20,
      "outputs": [
        {
          "output_type": "execute_result",
          "data": {
            "text/plain": [
              "DataFrame[invoice_and_item_number: string, date: date, store_number: string, store_name: string, address: string, city: string, zip_code: string, store_location: string, county_number: string, county: string, category: string, category_name: string, vendor_number: string, vendor_name: string, item_number: string, item_description: string, pack: bigint, bottle_volume_ml: bigint, state_bottle_cost: double, state_bottle_retail: double, bottles_sold: bigint, sale_dollars: double, volume_sold_liters: double, volume_sold_gallons: double]"
            ]
          },
          "metadata": {},
          "execution_count": 20
        }
      ]
    },
    {
      "cell_type": "code",
      "source": [
        "# We Are not in a need of All the columns so we gonna just use the following columns\n",
        "rdd.where(date_format(rdd.date, 'dd') == '01').groupBy('date')\\\n",
        "        .agg(\n",
        "            sum(\"sale_dollars\") , sum('state_bottle_cost') , sum('bottles_sold') , sum('volume_sold_liters')\n",
        "          )\\\n",
        "        .sort('date')\\\n",
        "        .show(6)"
      ],
      "metadata": {
        "colab": {
          "base_uri": "https://localhost:8080/"
        },
        "id": "sXbIKwm_yvoS",
        "outputId": "04f14814-eddc-49ef-a384-3754f5cd8bfe"
      },
      "execution_count": 21,
      "outputs": [
        {
          "output_type": "stream",
          "name": "stdout",
          "text": [
            "+----------+-----------------+----------------------+-----------------+-----------------------+\n",
            "|      date|sum(sale_dollars)|sum(state_bottle_cost)|sum(bottles_sold)|sum(volume_sold_liters)|\n",
            "+----------+-----------------+----------------------+-----------------+-----------------------+\n",
            "|2012-02-01|          7159.83|     526.7800000000001|              556|                 465.76|\n",
            "|2012-03-01|          8627.76|     625.6500000000001|              666|                  514.5|\n",
            "|2012-05-01|6614.799999999999|    469.59999999999997|              610|                 530.26|\n",
            "|2012-08-01|7141.290000000001|    441.72999999999996|              550|                 447.88|\n",
            "|2012-10-01|7835.700000000001|                522.43|              678|                  522.0|\n",
            "|2012-11-01|6936.000000000001|    471.52000000000004|              633|                  478.5|\n",
            "+----------+-----------------+----------------------+-----------------+-----------------------+\n",
            "only showing top 6 rows\n",
            "\n"
          ]
        }
      ]
    },
    {
      "cell_type": "code",
      "source": [
        "# the date format is not what we should use since we need to predict next 30 days \n",
        "# we should make two column that make month and which are grouping by years\n",
        "rdd = rdd.withColumn(\"specefic_date\", date_format(rdd.date, 'MM-dd')) \n",
        "rdd = rdd.withColumn(\"year\", date_format(rdd.date, 'yyyy'))\n",
        "rdd.show(6)"
      ],
      "metadata": {
        "colab": {
          "base_uri": "https://localhost:8080/"
        },
        "id": "zF2ib6k30NFR",
        "outputId": "e0b47652-b650-4bd5-a25f-445e8bae4f4d"
      },
      "execution_count": 22,
      "outputs": [
        {
          "output_type": "stream",
          "name": "stdout",
          "text": [
            "+-----------------------+----------+------------+--------------------+----------------+---------------+--------+--------------------+-------------+----------+---------+--------------------+-------------+--------------------+-----------+--------------------+----+----------------+-----------------+-------------------+------------+------------+------------------+-------------------+-------------+----+\n",
            "|invoice_and_item_number|      date|store_number|          store_name|         address|           city|zip_code|      store_location|county_number|    county| category|       category_name|vendor_number|         vendor_name|item_number|    item_description|pack|bottle_volume_ml|state_bottle_cost|state_bottle_retail|bottles_sold|sale_dollars|volume_sold_liters|volume_sold_gallons|specefic_date|year|\n",
            "+-----------------------+----------+------------+--------------------+----------------+---------------+--------+--------------------+-------------+----------+---------+--------------------+-------------+--------------------+-----------+--------------------+----+----------------+-----------------+-------------------+------------+------------+------------------+-------------------+-------------+----+\n",
            "|        INV-26755100067|2020-04-22|        5068|TOBACCO SHOP / AR...|612 S HIGHWAY 71|   ARNOLDS PARK| 51331.0|POINT(-95.140274 ...|           30| DICKINSON|1082000.0|IMPORTED CORDIALS...|        192.0|MAST-JAGERMEISTER...|      65259|JAGERMEISTER LIQU...|  12|              20|             4.93|                7.4|           1|         7.4|              0.02|                0.0|        04-22|2020|\n",
            "|        INV-23178200002|2019-11-12|        4902|     BROADWAY LIQUOR| 821 BROADWAY ST|       WATERLOO| 50703.0|POINT(-92.345144 ...|            7|BLACK HAWK|1082000.0|IMPORTED CORDIALS...|        192.0|MAST-JAGERMEISTER...|      65259|JAGERMEISTER LIQU...|  12|              20|             4.93|                7.4|           1|         7.4|              0.02|                0.0|        11-12|2019|\n",
            "|        INV-37598400099|2021-06-17|        2515|HY-VEE FOOD STORE...|  2400 4TH ST SW|     MASON CITY| 50401.0|POINT(-93.235588 ...|           17|CERRO GORD|1082100.0|IMPORTED CORDIALS...|          192|MAST-JAGERMEISTER...|      65259|JAGERMEISTER LIQU...|  12|              20|             4.93|                7.4|           1|         7.4|              0.02|                0.0|        06-17|2021|\n",
            "|        INV-23344300200|2019-11-19|        2621|HY-VEE FOOD STORE...|  3301 GORDON DR|     SIOUX CITY| 51105.0|POINT(-96.364108 ...|           97|  WOODBURY|1082000.0|IMPORTED CORDIALS...|        192.0|MAST-JAGERMEISTER...|      65259|JAGERMEISTER LIQU...|  12|              20|             4.93|                7.4|           1|         7.4|              0.02|                0.0|        11-19|2019|\n",
            "|        INV-43289400037|2021-12-27|        4068|       SA PETRO MART|     136  1ST ST|WEST DES MOINES| 50265.0|POINT(-93.703345 ...|           77|      POLK|1082100.0|IMPORTED CORDIALS...|          192|MAST-JAGERMEISTER...|      65259|JAGERMEISTER LIQU...|  12|              20|             4.93|                7.4|           1|         7.4|              0.02|                0.0|        12-27|2021|\n",
            "|        INV-43355700017|2021-12-28|        5866|HOMETOWN FAMILY M...|      310 2ND ST|      GLADBROOK| 50635.0|POINT(-92.716422 ...|           86|      TAMA|1082100.0|IMPORTED CORDIALS...|          192|MAST-JAGERMEISTER...|      65259|JAGERMEISTER LIQU...|  12|              20|             4.93|                7.4|           1|         7.4|              0.02|                0.0|        12-28|2021|\n",
            "+-----------------------+----------+------------+--------------------+----------------+---------------+--------+--------------------+-------------+----------+---------+--------------------+-------------+--------------------+-----------+--------------------+----+----------------+-----------------+-------------------+------------+------------+------------------+-------------------+-------------+----+\n",
            "only showing top 6 rows\n",
            "\n"
          ]
        }
      ]
    },
    {
      "cell_type": "code",
      "source": [
        "# now let's make the neccesserie querys\n",
        "data = rdd.where(date_format(rdd.date, 'dd') == '01')\\\n",
        "        .groupBy(\n",
        "            'date',\n",
        "            'year',\n",
        "            'specefic_date'\n",
        "        ).agg(\n",
        "            sum(\"sale_dollars\").alias(\"total sale_dollars\") , sum('state_bottle_cost').alias('total state_bottle_cost') ,\n",
        "            sum('state_bottle_retail').alias('total state_bottle_retail') , sum('bottles_sold').alias('total bottles_sold') , \n",
        "            sum('volume_sold_liters').alias('total volume_sold_liters')\n",
        "        ).sort('date')"
      ],
      "metadata": {
        "id": "CTuyYQG51g7W"
      },
      "execution_count": 23,
      "outputs": []
    },
    {
      "cell_type": "code",
      "source": [
        "# And this the last result of our manipulation\n",
        "data.show()"
      ],
      "metadata": {
        "colab": {
          "base_uri": "https://localhost:8080/"
        },
        "id": "tm1XYazC141_",
        "outputId": "485af3a2-f9e9-4a4b-d6d4-7646ac37da14"
      },
      "execution_count": 24,
      "outputs": [
        {
          "output_type": "stream",
          "name": "stdout",
          "text": [
            "+----------+----+-------------+------------------+-----------------------+-------------------------+------------------+------------------------+\n",
            "|      date|year|specefic_date|total sale_dollars|total state_bottle_cost|total state_bottle_retail|total bottles_sold|total volume_sold_liters|\n",
            "+----------+----+-------------+------------------+-----------------------+-------------------------+------------------+------------------------+\n",
            "|2012-02-01|2012|        02-01|           7159.83|      526.7800000000001|                   795.23|               556|                  465.76|\n",
            "|2012-03-01|2012|        03-01|           8627.76|      625.6500000000001|        941.9399999999998|               666|                   514.5|\n",
            "|2012-05-01|2012|        05-01| 6614.799999999999|     469.59999999999997|        705.8000000000001|               610|                  530.26|\n",
            "|2012-08-01|2012|        08-01| 7141.290000000001|     441.72999999999996|        665.1800000000001|               550|                  447.88|\n",
            "|2012-10-01|2012|        10-01| 7835.700000000001|                 522.43|        790.0500000000002|               678|                   522.0|\n",
            "|2012-11-01|2012|        11-01| 6936.000000000001|     471.52000000000004|                   708.46|               633|                   478.5|\n",
            "|2013-04-01|2013|        04-01|12436.910000000003|      584.1800000000002|        880.9100000000001|              1018|                  748.38|\n",
            "|2013-05-01|2013|        05-01|           4727.72|                 346.25|        520.9200000000001|               449|                   377.0|\n",
            "|2013-07-01|2013|        07-01| 8179.670000000001|                 577.29|                   870.32|               605|                  492.62|\n",
            "|2013-08-01|2013|        08-01| 7791.299999999999|      452.4200000000001|        679.1800000000001|               702|                   471.0|\n",
            "|2013-10-01|2013|        10-01| 6988.740000000001|     443.91999999999996|        670.5400000000001|               528|                   432.0|\n",
            "|2014-04-01|2014|        04-01|           7629.41|                 402.51|                   606.75|               653|                   497.5|\n",
            "|2014-05-01|2014|        05-01|           8212.45|      508.8499999999999|                   764.96|               689|                  547.88|\n",
            "|2014-07-01|2014|        07-01|10266.240000000002|      611.1300000000001|        918.3399999999999|               900|                   642.0|\n",
            "|2014-10-01|2014|        10-01|          11393.64|                 663.45|       1000.0999999999999|              1006|                  710.26|\n",
            "|2014-12-01|2014|        12-01|17805.120000000003|                 787.26|       1185.8700000000003|              1265|                  933.38|\n",
            "|2015-04-01|2015|        04-01| 8138.050000000001|                 522.66|        785.9099999999999|               635|                  478.88|\n",
            "|2015-06-01|2015|        06-01|13208.760000000002|                 878.57|       1319.5600000000002|               882|                   690.0|\n",
            "|2015-07-01|2015|        07-01|            8184.0|     507.05000000000007|                   761.06|               654|                   471.0|\n",
            "|2015-09-01|2015|        09-01|           8461.56|                 544.07|                   816.63|               652|                  531.88|\n",
            "+----------+----+-------------+------------------+-----------------------+-------------------------+------------------+------------------------+\n",
            "only showing top 20 rows\n",
            "\n"
          ]
        }
      ]
    },
    {
      "cell_type": "markdown",
      "source": [
        "### 6 _ Saving data using Cross Validation"
      ],
      "metadata": {
        "id": "kAuNKwTY4YSt"
      }
    },
    {
      "cell_type": "code",
      "source": [
        "# Cross Validation is a method that stending on creating K Folder of Data\n",
        "# We End Up with using K-1 Folder For Training And 1 For Testing\n",
        "data.groupBy('year').count().sort('year').show()"
      ],
      "metadata": {
        "colab": {
          "base_uri": "https://localhost:8080/"
        },
        "id": "4XpsM1ng4hqr",
        "outputId": "46f98582-f6d6-4f8c-f564-7075b31e46ee"
      },
      "execution_count": 25,
      "outputs": [
        {
          "output_type": "stream",
          "name": "stdout",
          "text": [
            "+----+-----+\n",
            "|year|count|\n",
            "+----+-----+\n",
            "|2012|    6|\n",
            "|2013|    5|\n",
            "|2014|    5|\n",
            "|2015|    6|\n",
            "|2016|    8|\n",
            "|2017|    8|\n",
            "|2018|    7|\n",
            "|2019|    8|\n",
            "|2020|    7|\n",
            "|2021|    9|\n",
            "|2022|    8|\n",
            "+----+-----+\n",
            "\n"
          ]
        }
      ]
    },
    {
      "cell_type": "code",
      "source": [
        "# for each year we gonna show the sells of that year\n",
        "for year in data.groupBy('year').count().sort('year').collect():\n",
        "  data.where(\n",
        "      data.year == year.year\n",
        "      ).show(4)"
      ],
      "metadata": {
        "colab": {
          "base_uri": "https://localhost:8080/"
        },
        "id": "OGzAZNgW5hgi",
        "outputId": "2b0de328-31d4-4467-f52e-b1bce53179a4"
      },
      "execution_count": 26,
      "outputs": [
        {
          "output_type": "stream",
          "name": "stdout",
          "text": [
            "+----------+----+-------------+------------------+-----------------------+-------------------------+------------------+------------------------+\n",
            "|      date|year|specefic_date|total sale_dollars|total state_bottle_cost|total state_bottle_retail|total bottles_sold|total volume_sold_liters|\n",
            "+----------+----+-------------+------------------+-----------------------+-------------------------+------------------+------------------------+\n",
            "|2012-02-01|2012|        02-01|           7159.83|      526.7800000000001|                   795.23|               556|                  465.76|\n",
            "|2012-03-01|2012|        03-01|           8627.76|      625.6500000000001|        941.9399999999998|               666|                   514.5|\n",
            "|2012-05-01|2012|        05-01| 6614.799999999999|     469.59999999999997|        705.8000000000001|               610|                  530.26|\n",
            "|2012-08-01|2012|        08-01| 7141.290000000001|     441.72999999999996|        665.1800000000001|               550|                  447.88|\n",
            "+----------+----+-------------+------------------+-----------------------+-------------------------+------------------+------------------------+\n",
            "only showing top 4 rows\n",
            "\n",
            "+----------+----+-------------+------------------+-----------------------+-------------------------+------------------+------------------------+\n",
            "|      date|year|specefic_date|total sale_dollars|total state_bottle_cost|total state_bottle_retail|total bottles_sold|total volume_sold_liters|\n",
            "+----------+----+-------------+------------------+-----------------------+-------------------------+------------------+------------------------+\n",
            "|2013-04-01|2013|        04-01|12436.910000000003|      584.1800000000002|        880.9100000000001|              1018|                  748.38|\n",
            "|2013-05-01|2013|        05-01|           4727.72|                 346.25|        520.9200000000001|               449|                   377.0|\n",
            "|2013-07-01|2013|        07-01| 8179.670000000001|                 577.29|                   870.32|               605|                  492.62|\n",
            "|2013-08-01|2013|        08-01| 7791.299999999999|      452.4200000000001|        679.1800000000001|               702|                   471.0|\n",
            "+----------+----+-------------+------------------+-----------------------+-------------------------+------------------+------------------------+\n",
            "only showing top 4 rows\n",
            "\n",
            "+----------+----+-------------+------------------+-----------------------+-------------------------+------------------+------------------------+\n",
            "|      date|year|specefic_date|total sale_dollars|total state_bottle_cost|total state_bottle_retail|total bottles_sold|total volume_sold_liters|\n",
            "+----------+----+-------------+------------------+-----------------------+-------------------------+------------------+------------------------+\n",
            "|2014-04-01|2014|        04-01|           7629.41|                 402.51|                   606.75|               653|                   497.5|\n",
            "|2014-05-01|2014|        05-01|           8212.45|      508.8499999999999|                   764.96|               689|                  547.88|\n",
            "|2014-07-01|2014|        07-01|10266.240000000002|      611.1300000000001|        918.3399999999999|               900|                   642.0|\n",
            "|2014-10-01|2014|        10-01|          11393.64|                 663.45|       1000.0999999999999|              1006|                  710.26|\n",
            "+----------+----+-------------+------------------+-----------------------+-------------------------+------------------+------------------------+\n",
            "only showing top 4 rows\n",
            "\n",
            "+----------+----+-------------+------------------+-----------------------+-------------------------+------------------+------------------------+\n",
            "|      date|year|specefic_date|total sale_dollars|total state_bottle_cost|total state_bottle_retail|total bottles_sold|total volume_sold_liters|\n",
            "+----------+----+-------------+------------------+-----------------------+-------------------------+------------------+------------------------+\n",
            "|2015-04-01|2015|        04-01| 8138.050000000001|                 522.66|        785.9099999999999|               635|                  478.88|\n",
            "|2015-06-01|2015|        06-01|13208.760000000002|                 878.57|       1319.5600000000002|               882|                   690.0|\n",
            "|2015-07-01|2015|        07-01|            8184.0|     507.05000000000007|                   761.06|               654|                   471.0|\n",
            "|2015-09-01|2015|        09-01|           8461.56|                 544.07|                   816.63|               652|                  531.88|\n",
            "+----------+----+-------------+------------------+-----------------------+-------------------------+------------------+------------------------+\n",
            "only showing top 4 rows\n",
            "\n",
            "+----------+----+-------------+------------------+-----------------------+-------------------------+------------------+------------------------+\n",
            "|      date|year|specefic_date|total sale_dollars|total state_bottle_cost|total state_bottle_retail|total bottles_sold|total volume_sold_liters|\n",
            "+----------+----+-------------+------------------+-----------------------+-------------------------+------------------+------------------------+\n",
            "|2016-02-01|2016|        02-01|          10937.16|      656.7800000000002|        986.0999999999999|               876|                   637.5|\n",
            "|2016-03-01|2016|        03-01| 8169.450000000001|                 586.44|                   880.01|               611|                   491.5|\n",
            "|2016-06-01|2016|        06-01| 8794.269999999999|      531.4000000000001|                   797.23|               774|                  511.76|\n",
            "|2016-07-01|2016|        07-01|           3459.42|                 229.19|                    344.6|               270|                   216.0|\n",
            "+----------+----+-------------+------------------+-----------------------+-------------------------+------------------+------------------------+\n",
            "only showing top 4 rows\n",
            "\n",
            "+----------+----+-------------+------------------+-----------------------+-------------------------+------------------+------------------------+\n",
            "|      date|year|specefic_date|total sale_dollars|total state_bottle_cost|total state_bottle_retail|total bottles_sold|total volume_sold_liters|\n",
            "+----------+----+-------------+------------------+-----------------------+-------------------------+------------------+------------------------+\n",
            "|2017-02-01|2017|        02-01|           8843.75|                 511.11|                    766.8|               841|                  581.38|\n",
            "|2017-03-01|2017|        03-01| 9753.060000000003|     497.85999999999996|                    746.9|               923|                  738.38|\n",
            "|2017-05-01|2017|        05-01|           8949.96|      509.2999999999999|        764.0699999999999|               750|                   553.5|\n",
            "|2017-06-01|2017|        06-01|           8089.77|                 521.32|        782.0999999999999|               605|                  454.88|\n",
            "+----------+----+-------------+------------------+-----------------------+-------------------------+------------------+------------------------+\n",
            "only showing top 4 rows\n",
            "\n",
            "+----------+----+-------------+------------------+-----------------------+-------------------------+------------------+------------------------+\n",
            "|      date|year|specefic_date|total sale_dollars|total state_bottle_cost|total state_bottle_retail|total bottles_sold|total volume_sold_liters|\n",
            "+----------+----+-------------+------------------+-----------------------+-------------------------+------------------+------------------------+\n",
            "|2018-02-01|2018|        02-01|           5537.34|                 345.42|                   518.21|               480|                   336.0|\n",
            "|2018-03-01|2018|        03-01| 8133.540000000002|                  293.4|                   440.17|               744|                   615.0|\n",
            "|2018-05-01|2018|        05-01|          10377.06|     495.96000000000004|        744.0699999999999|               851|                  534.38|\n",
            "|2018-06-01|2018|        06-01|           4565.73|                 271.51|       407.30999999999995|               347|                  249.38|\n",
            "+----------+----+-------------+------------------+-----------------------+-------------------------+------------------+------------------------+\n",
            "only showing top 4 rows\n",
            "\n",
            "+----------+----+-------------+------------------+-----------------------+-------------------------+------------------+------------------------+\n",
            "|      date|year|specefic_date|total sale_dollars|total state_bottle_cost|total state_bottle_retail|total bottles_sold|total volume_sold_liters|\n",
            "+----------+----+-------------+------------------+-----------------------+-------------------------+------------------+------------------------+\n",
            "|2019-02-01|2019|        02-01|            557.82|                  72.22|                   108.33|                30|                    52.5|\n",
            "|2019-03-01|2019|        03-01|           1272.96|                  88.69|       133.04000000000002|                86|                   98.75|\n",
            "|2019-04-01|2019|        04-01|           1010.86|                  105.7|       158.57000000000002|               108|                   94.86|\n",
            "|2019-05-01|2019|        05-01|           9196.65|                 259.08|       388.64000000000004|               502|       701.1700000000001|\n",
            "+----------+----+-------------+------------------+-----------------------+-------------------------+------------------+------------------------+\n",
            "only showing top 4 rows\n",
            "\n",
            "+----------+----+-------------+------------------+-----------------------+-------------------------+------------------+------------------------+\n",
            "|      date|year|specefic_date|total sale_dollars|total state_bottle_cost|total state_bottle_retail|total bottles_sold|total volume_sold_liters|\n",
            "+----------+----+-------------+------------------+-----------------------+-------------------------+------------------+------------------------+\n",
            "|2020-04-01|2020|        04-01|           2233.71|                 143.38|       215.07999999999998|               110|       99.74000000000001|\n",
            "|2020-05-01|2020|        05-01|           1987.89|                 213.26|                   319.91|               147|                   151.6|\n",
            "|2020-06-01|2020|        06-01|           1590.36|                 129.56|       194.35999999999999|               121|                    95.9|\n",
            "|2020-07-01|2020|        07-01|           2140.14|                 120.12|                    180.2|               138|                   145.5|\n",
            "+----------+----+-------------+------------------+-----------------------+-------------------------+------------------+------------------------+\n",
            "only showing top 4 rows\n",
            "\n",
            "+----------+----+-------------+------------------+-----------------------+-------------------------+------------------+------------------------+\n",
            "|      date|year|specefic_date|total sale_dollars|total state_bottle_cost|total state_bottle_retail|total bottles_sold|total volume_sold_liters|\n",
            "+----------+----+-------------+------------------+-----------------------+-------------------------+------------------+------------------------+\n",
            "|2021-02-01|2021|        02-01|             634.8|      84.72000000000001|       127.09000000000002|                44|       65.99000000000001|\n",
            "|2021-03-01|2021|        03-01|           2198.16|     143.47000000000003|       215.23000000000002|               199|                  184.87|\n",
            "|2021-04-01|2021|        04-01|           1846.74|                 124.84|                   187.26|               121|                  130.12|\n",
            "|2021-06-01|2021|        06-01|           2148.52|     210.51000000000002|                   315.79|               113|                  146.99|\n",
            "+----------+----+-------------+------------------+-----------------------+-------------------------+------------------+------------------------+\n",
            "only showing top 4 rows\n",
            "\n",
            "+----------+----+-------------+------------------+-----------------------+-------------------------+------------------+------------------------+\n",
            "|      date|year|specefic_date|total sale_dollars|total state_bottle_cost|total state_bottle_retail|total bottles_sold|total volume_sold_liters|\n",
            "+----------+----+-------------+------------------+-----------------------+-------------------------+------------------+------------------------+\n",
            "|2022-02-01|2022|        02-01|           4794.42|                 182.21|       273.34000000000003|               318|                   436.5|\n",
            "|2022-03-01|2022|        03-01|           1147.41|                 138.69|                   208.05|                80|       71.24000000000001|\n",
            "|2022-04-01|2022|        04-01|2146.9399999999996|     208.07999999999996|        312.1600000000001|               191|                  188.36|\n",
            "|2022-06-01|2022|        06-01|           1312.98|                  143.4|                   215.12|                90|                  105.36|\n",
            "+----------+----+-------------+------------------+-----------------------+-------------------------+------------------+------------------------+\n",
            "only showing top 4 rows\n",
            "\n"
          ]
        }
      ]
    },
    {
      "cell_type": "code",
      "source": [
        "# Now We gonna save our data as csv file in the same folder\n",
        "for year in data.groupBy('year').count().sort('year').collect():\n",
        "  files = data.where(data.year == year.year)\n",
        "  files.write.option('header', True)\\\n",
        "              .csv(\n",
        "                f\"/content/Lstm_Validation_data/{year.year}_sells_dataset.csv\"\n",
        "              )"
      ],
      "metadata": {
        "id": "5sCNdWZY6xcE"
      },
      "execution_count": 27,
      "outputs": []
    },
    {
      "cell_type": "code",
      "source": [
        "# Probably we gonna need the whole data so let's save it too\n",
        "data.write.option('header', True)\\\n",
        "              .csv(\n",
        "                \"/content/Lstm_All_data/whole_sells_dataset.csv\"\n",
        "              )"
      ],
      "metadata": {
        "id": "a3eGg9ZHKE0t"
      },
      "execution_count": 28,
      "outputs": []
    },
    {
      "cell_type": "code",
      "source": [
        "# And we end up our session with stop function\n",
        "spark.stop()"
      ],
      "metadata": {
        "id": "OUcZDon1n8EB"
      },
      "execution_count": 29,
      "outputs": []
    }
  ]
}