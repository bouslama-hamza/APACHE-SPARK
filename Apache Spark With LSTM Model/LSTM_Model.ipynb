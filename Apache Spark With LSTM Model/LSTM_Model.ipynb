{
  "nbformat": 4,
  "nbformat_minor": 0,
  "metadata": {
    "colab": {
      "provenance": []
    },
    "kernelspec": {
      "name": "python3",
      "display_name": "Python 3"
    },
    "language_info": {
      "name": "python"
    }
  },
  "cells": [
    {
      "cell_type": "markdown",
      "source": [
        "## Full Process of using LSTM Model"
      ],
      "metadata": {
        "id": "jI8HP1gQYbta"
      }
    },
    {
      "cell_type": "markdown",
      "source": [
        "### 1 _ Pre processing"
      ],
      "metadata": {
        "id": "_fEXJOuRYhno"
      }
    },
    {
      "cell_type": "code",
      "source": [
        "# first we import the required librarys\n",
        "import pandas as pd\n",
        "import numpy as np\n",
        "import matplotlib.pyplot as plt"
      ],
      "metadata": {
        "id": "8rZMi_OdYT8X"
      },
      "execution_count": null,
      "outputs": []
    },
    {
      "cell_type": "code",
      "source": [
        "# next we need to read our own dataset\n",
        "df = pd.read_csv('/content/data.csv' , index_col = 'date' , parse_dates=True)\n",
        "df.head()"
      ],
      "metadata": {
        "colab": {
          "base_uri": "https://localhost:8080/",
          "height": 386
        },
        "id": "ljbcKTRMYxIv",
        "outputId": "27559b56-98f8-4ca8-a56b-1fa9e2261ac4"
      },
      "execution_count": null,
      "outputs": [
        {
          "output_type": "execute_result",
          "data": {
            "text/plain": [
              "            year specefic_date  total sale_dollars  total state_bottle_cost  \\\n",
              "date                                                                          \n",
              "2012-02-01  2012         02-01             5577.26                   349.82   \n",
              "2012-03-01  2012         03-01             4756.82                   277.15   \n",
              "2012-05-01  2012         05-01             7962.06                   536.60   \n",
              "2012-08-01  2012         08-01             5981.40                   395.47   \n",
              "2012-10-01  2012         10-01             9064.20                   507.76   \n",
              "\n",
              "            total state_bottle_retail  total bottles_sold  \\\n",
              "date                                                        \n",
              "2012-02-01                     525.68                 589   \n",
              "2012-03-01                     416.99                 561   \n",
              "2012-05-01                     809.48                 640   \n",
              "2012-08-01                     595.39                 656   \n",
              "2012-10-01                     766.11                 727   \n",
              "\n",
              "            total volume_sold_liters  \n",
              "date                                  \n",
              "2012-02-01                    342.50  \n",
              "2012-03-01                    321.38  \n",
              "2012-05-01                    609.00  \n",
              "2012-08-01                    427.50  \n",
              "2012-10-01                    525.00  "
            ],
            "text/html": [
              "\n",
              "  <div id=\"df-4164c7d2-6917-4de6-b68d-cbd62d7f76dd\">\n",
              "    <div class=\"colab-df-container\">\n",
              "      <div>\n",
              "<style scoped>\n",
              "    .dataframe tbody tr th:only-of-type {\n",
              "        vertical-align: middle;\n",
              "    }\n",
              "\n",
              "    .dataframe tbody tr th {\n",
              "        vertical-align: top;\n",
              "    }\n",
              "\n",
              "    .dataframe thead th {\n",
              "        text-align: right;\n",
              "    }\n",
              "</style>\n",
              "<table border=\"1\" class=\"dataframe\">\n",
              "  <thead>\n",
              "    <tr style=\"text-align: right;\">\n",
              "      <th></th>\n",
              "      <th>year</th>\n",
              "      <th>specefic_date</th>\n",
              "      <th>total sale_dollars</th>\n",
              "      <th>total state_bottle_cost</th>\n",
              "      <th>total state_bottle_retail</th>\n",
              "      <th>total bottles_sold</th>\n",
              "      <th>total volume_sold_liters</th>\n",
              "    </tr>\n",
              "    <tr>\n",
              "      <th>date</th>\n",
              "      <th></th>\n",
              "      <th></th>\n",
              "      <th></th>\n",
              "      <th></th>\n",
              "      <th></th>\n",
              "      <th></th>\n",
              "      <th></th>\n",
              "    </tr>\n",
              "  </thead>\n",
              "  <tbody>\n",
              "    <tr>\n",
              "      <th>2012-02-01</th>\n",
              "      <td>2012</td>\n",
              "      <td>02-01</td>\n",
              "      <td>5577.26</td>\n",
              "      <td>349.82</td>\n",
              "      <td>525.68</td>\n",
              "      <td>589</td>\n",
              "      <td>342.50</td>\n",
              "    </tr>\n",
              "    <tr>\n",
              "      <th>2012-03-01</th>\n",
              "      <td>2012</td>\n",
              "      <td>03-01</td>\n",
              "      <td>4756.82</td>\n",
              "      <td>277.15</td>\n",
              "      <td>416.99</td>\n",
              "      <td>561</td>\n",
              "      <td>321.38</td>\n",
              "    </tr>\n",
              "    <tr>\n",
              "      <th>2012-05-01</th>\n",
              "      <td>2012</td>\n",
              "      <td>05-01</td>\n",
              "      <td>7962.06</td>\n",
              "      <td>536.60</td>\n",
              "      <td>809.48</td>\n",
              "      <td>640</td>\n",
              "      <td>609.00</td>\n",
              "    </tr>\n",
              "    <tr>\n",
              "      <th>2012-08-01</th>\n",
              "      <td>2012</td>\n",
              "      <td>08-01</td>\n",
              "      <td>5981.40</td>\n",
              "      <td>395.47</td>\n",
              "      <td>595.39</td>\n",
              "      <td>656</td>\n",
              "      <td>427.50</td>\n",
              "    </tr>\n",
              "    <tr>\n",
              "      <th>2012-10-01</th>\n",
              "      <td>2012</td>\n",
              "      <td>10-01</td>\n",
              "      <td>9064.20</td>\n",
              "      <td>507.76</td>\n",
              "      <td>766.11</td>\n",
              "      <td>727</td>\n",
              "      <td>525.00</td>\n",
              "    </tr>\n",
              "  </tbody>\n",
              "</table>\n",
              "</div>\n",
              "      <button class=\"colab-df-convert\" onclick=\"convertToInteractive('df-4164c7d2-6917-4de6-b68d-cbd62d7f76dd')\"\n",
              "              title=\"Convert this dataframe to an interactive table.\"\n",
              "              style=\"display:none;\">\n",
              "        \n",
              "  <svg xmlns=\"http://www.w3.org/2000/svg\" height=\"24px\"viewBox=\"0 0 24 24\"\n",
              "       width=\"24px\">\n",
              "    <path d=\"M0 0h24v24H0V0z\" fill=\"none\"/>\n",
              "    <path d=\"M18.56 5.44l.94 2.06.94-2.06 2.06-.94-2.06-.94-.94-2.06-.94 2.06-2.06.94zm-11 1L8.5 8.5l.94-2.06 2.06-.94-2.06-.94L8.5 2.5l-.94 2.06-2.06.94zm10 10l.94 2.06.94-2.06 2.06-.94-2.06-.94-.94-2.06-.94 2.06-2.06.94z\"/><path d=\"M17.41 7.96l-1.37-1.37c-.4-.4-.92-.59-1.43-.59-.52 0-1.04.2-1.43.59L10.3 9.45l-7.72 7.72c-.78.78-.78 2.05 0 2.83L4 21.41c.39.39.9.59 1.41.59.51 0 1.02-.2 1.41-.59l7.78-7.78 2.81-2.81c.8-.78.8-2.07 0-2.86zM5.41 20L4 18.59l7.72-7.72 1.47 1.35L5.41 20z\"/>\n",
              "  </svg>\n",
              "      </button>\n",
              "      \n",
              "  <style>\n",
              "    .colab-df-container {\n",
              "      display:flex;\n",
              "      flex-wrap:wrap;\n",
              "      gap: 12px;\n",
              "    }\n",
              "\n",
              "    .colab-df-convert {\n",
              "      background-color: #E8F0FE;\n",
              "      border: none;\n",
              "      border-radius: 50%;\n",
              "      cursor: pointer;\n",
              "      display: none;\n",
              "      fill: #1967D2;\n",
              "      height: 32px;\n",
              "      padding: 0 0 0 0;\n",
              "      width: 32px;\n",
              "    }\n",
              "\n",
              "    .colab-df-convert:hover {\n",
              "      background-color: #E2EBFA;\n",
              "      box-shadow: 0px 1px 2px rgba(60, 64, 67, 0.3), 0px 1px 3px 1px rgba(60, 64, 67, 0.15);\n",
              "      fill: #174EA6;\n",
              "    }\n",
              "\n",
              "    [theme=dark] .colab-df-convert {\n",
              "      background-color: #3B4455;\n",
              "      fill: #D2E3FC;\n",
              "    }\n",
              "\n",
              "    [theme=dark] .colab-df-convert:hover {\n",
              "      background-color: #434B5C;\n",
              "      box-shadow: 0px 1px 3px 1px rgba(0, 0, 0, 0.15);\n",
              "      filter: drop-shadow(0px 1px 2px rgba(0, 0, 0, 0.3));\n",
              "      fill: #FFFFFF;\n",
              "    }\n",
              "  </style>\n",
              "\n",
              "      <script>\n",
              "        const buttonEl =\n",
              "          document.querySelector('#df-4164c7d2-6917-4de6-b68d-cbd62d7f76dd button.colab-df-convert');\n",
              "        buttonEl.style.display =\n",
              "          google.colab.kernel.accessAllowed ? 'block' : 'none';\n",
              "\n",
              "        async function convertToInteractive(key) {\n",
              "          const element = document.querySelector('#df-4164c7d2-6917-4de6-b68d-cbd62d7f76dd');\n",
              "          const dataTable =\n",
              "            await google.colab.kernel.invokeFunction('convertToInteractive',\n",
              "                                                     [key], {});\n",
              "          if (!dataTable) return;\n",
              "\n",
              "          const docLinkHtml = 'Like what you see? Visit the ' +\n",
              "            '<a target=\"_blank\" href=https://colab.research.google.com/notebooks/data_table.ipynb>data table notebook</a>'\n",
              "            + ' to learn more about interactive tables.';\n",
              "          element.innerHTML = '';\n",
              "          dataTable['output_type'] = 'display_data';\n",
              "          await google.colab.output.renderOutput(dataTable, element);\n",
              "          const docLink = document.createElement('div');\n",
              "          docLink.innerHTML = docLinkHtml;\n",
              "          element.appendChild(docLink);\n",
              "        }\n",
              "      </script>\n",
              "    </div>\n",
              "  </div>\n",
              "  "
            ]
          },
          "metadata": {},
          "execution_count": 2
        }
      ]
    },
    {
      "cell_type": "code",
      "source": [
        "# let's keep only the needed data for this process\n",
        "df.drop(['year' , 'specefic_date' ,'total state_bottle_cost' , 'total state_bottle_retail' , 'total sale_dollars' , 'total volume_sold_liters'],axis = 1, inplace = True)\n",
        "df.head()"
      ],
      "metadata": {
        "colab": {
          "base_uri": "https://localhost:8080/",
          "height": 237
        },
        "id": "vlDv-9srY_eZ",
        "outputId": "94b1617e-ef0b-47ca-e007-f25fc754868b"
      },
      "execution_count": null,
      "outputs": [
        {
          "output_type": "execute_result",
          "data": {
            "text/plain": [
              "            total bottles_sold\n",
              "date                          \n",
              "2012-02-01                 589\n",
              "2012-03-01                 561\n",
              "2012-05-01                 640\n",
              "2012-08-01                 656\n",
              "2012-10-01                 727"
            ],
            "text/html": [
              "\n",
              "  <div id=\"df-b87a05b5-fb7c-4095-abb9-68c80ed5a449\">\n",
              "    <div class=\"colab-df-container\">\n",
              "      <div>\n",
              "<style scoped>\n",
              "    .dataframe tbody tr th:only-of-type {\n",
              "        vertical-align: middle;\n",
              "    }\n",
              "\n",
              "    .dataframe tbody tr th {\n",
              "        vertical-align: top;\n",
              "    }\n",
              "\n",
              "    .dataframe thead th {\n",
              "        text-align: right;\n",
              "    }\n",
              "</style>\n",
              "<table border=\"1\" class=\"dataframe\">\n",
              "  <thead>\n",
              "    <tr style=\"text-align: right;\">\n",
              "      <th></th>\n",
              "      <th>total bottles_sold</th>\n",
              "    </tr>\n",
              "    <tr>\n",
              "      <th>date</th>\n",
              "      <th></th>\n",
              "    </tr>\n",
              "  </thead>\n",
              "  <tbody>\n",
              "    <tr>\n",
              "      <th>2012-02-01</th>\n",
              "      <td>589</td>\n",
              "    </tr>\n",
              "    <tr>\n",
              "      <th>2012-03-01</th>\n",
              "      <td>561</td>\n",
              "    </tr>\n",
              "    <tr>\n",
              "      <th>2012-05-01</th>\n",
              "      <td>640</td>\n",
              "    </tr>\n",
              "    <tr>\n",
              "      <th>2012-08-01</th>\n",
              "      <td>656</td>\n",
              "    </tr>\n",
              "    <tr>\n",
              "      <th>2012-10-01</th>\n",
              "      <td>727</td>\n",
              "    </tr>\n",
              "  </tbody>\n",
              "</table>\n",
              "</div>\n",
              "      <button class=\"colab-df-convert\" onclick=\"convertToInteractive('df-b87a05b5-fb7c-4095-abb9-68c80ed5a449')\"\n",
              "              title=\"Convert this dataframe to an interactive table.\"\n",
              "              style=\"display:none;\">\n",
              "        \n",
              "  <svg xmlns=\"http://www.w3.org/2000/svg\" height=\"24px\"viewBox=\"0 0 24 24\"\n",
              "       width=\"24px\">\n",
              "    <path d=\"M0 0h24v24H0V0z\" fill=\"none\"/>\n",
              "    <path d=\"M18.56 5.44l.94 2.06.94-2.06 2.06-.94-2.06-.94-.94-2.06-.94 2.06-2.06.94zm-11 1L8.5 8.5l.94-2.06 2.06-.94-2.06-.94L8.5 2.5l-.94 2.06-2.06.94zm10 10l.94 2.06.94-2.06 2.06-.94-2.06-.94-.94-2.06-.94 2.06-2.06.94z\"/><path d=\"M17.41 7.96l-1.37-1.37c-.4-.4-.92-.59-1.43-.59-.52 0-1.04.2-1.43.59L10.3 9.45l-7.72 7.72c-.78.78-.78 2.05 0 2.83L4 21.41c.39.39.9.59 1.41.59.51 0 1.02-.2 1.41-.59l7.78-7.78 2.81-2.81c.8-.78.8-2.07 0-2.86zM5.41 20L4 18.59l7.72-7.72 1.47 1.35L5.41 20z\"/>\n",
              "  </svg>\n",
              "      </button>\n",
              "      \n",
              "  <style>\n",
              "    .colab-df-container {\n",
              "      display:flex;\n",
              "      flex-wrap:wrap;\n",
              "      gap: 12px;\n",
              "    }\n",
              "\n",
              "    .colab-df-convert {\n",
              "      background-color: #E8F0FE;\n",
              "      border: none;\n",
              "      border-radius: 50%;\n",
              "      cursor: pointer;\n",
              "      display: none;\n",
              "      fill: #1967D2;\n",
              "      height: 32px;\n",
              "      padding: 0 0 0 0;\n",
              "      width: 32px;\n",
              "    }\n",
              "\n",
              "    .colab-df-convert:hover {\n",
              "      background-color: #E2EBFA;\n",
              "      box-shadow: 0px 1px 2px rgba(60, 64, 67, 0.3), 0px 1px 3px 1px rgba(60, 64, 67, 0.15);\n",
              "      fill: #174EA6;\n",
              "    }\n",
              "\n",
              "    [theme=dark] .colab-df-convert {\n",
              "      background-color: #3B4455;\n",
              "      fill: #D2E3FC;\n",
              "    }\n",
              "\n",
              "    [theme=dark] .colab-df-convert:hover {\n",
              "      background-color: #434B5C;\n",
              "      box-shadow: 0px 1px 3px 1px rgba(0, 0, 0, 0.15);\n",
              "      filter: drop-shadow(0px 1px 2px rgba(0, 0, 0, 0.3));\n",
              "      fill: #FFFFFF;\n",
              "    }\n",
              "  </style>\n",
              "\n",
              "      <script>\n",
              "        const buttonEl =\n",
              "          document.querySelector('#df-b87a05b5-fb7c-4095-abb9-68c80ed5a449 button.colab-df-convert');\n",
              "        buttonEl.style.display =\n",
              "          google.colab.kernel.accessAllowed ? 'block' : 'none';\n",
              "\n",
              "        async function convertToInteractive(key) {\n",
              "          const element = document.querySelector('#df-b87a05b5-fb7c-4095-abb9-68c80ed5a449');\n",
              "          const dataTable =\n",
              "            await google.colab.kernel.invokeFunction('convertToInteractive',\n",
              "                                                     [key], {});\n",
              "          if (!dataTable) return;\n",
              "\n",
              "          const docLinkHtml = 'Like what you see? Visit the ' +\n",
              "            '<a target=\"_blank\" href=https://colab.research.google.com/notebooks/data_table.ipynb>data table notebook</a>'\n",
              "            + ' to learn more about interactive tables.';\n",
              "          element.innerHTML = '';\n",
              "          dataTable['output_type'] = 'display_data';\n",
              "          await google.colab.output.renderOutput(dataTable, element);\n",
              "          const docLink = document.createElement('div');\n",
              "          docLink.innerHTML = docLinkHtml;\n",
              "          element.appendChild(docLink);\n",
              "        }\n",
              "      </script>\n",
              "    </div>\n",
              "  </div>\n",
              "  "
            ]
          },
          "metadata": {},
          "execution_count": 3
        }
      ]
    },
    {
      "cell_type": "code",
      "source": [
        "# let's show the form of our data\n",
        "df.plot(figsize = (12,6))"
      ],
      "metadata": {
        "colab": {
          "base_uri": "https://localhost:8080/",
          "height": 385
        },
        "id": "cbXQTf55b8dH",
        "outputId": "8aa8bf6a-7c28-49eb-ac02-e0aa53503de6"
      },
      "execution_count": null,
      "outputs": [
        {
          "output_type": "execute_result",
          "data": {
            "text/plain": [
              "<matplotlib.axes._subplots.AxesSubplot at 0x7fa01a5d2760>"
            ]
          },
          "metadata": {},
          "execution_count": 4
        },
        {
          "output_type": "display_data",
          "data": {
            "text/plain": [
              "<Figure size 864x432 with 1 Axes>"
            ],
            "image/png": "[encoded data removed]"
          },
          "metadata": {
            "needs_background": "light"
          }
        }
      ]
    },
    {
      "cell_type": "markdown",
      "source": [
        "### 2 _ Dataset Integration"
      ],
      "metadata": {
        "id": "AeXTojDxe2L1"
      }
    },
    {
      "cell_type": "code",
      "source": [
        "# let's start by showing the len of the dataset\n",
        "len(df)"
      ],
      "metadata": {
        "colab": {
          "base_uri": "https://localhost:8080/"
        },
        "id": "OdPNhWuydntP",
        "outputId": "38b99531-fc16-4ed5-e6b1-abeee6834017"
      },
      "execution_count": null,
      "outputs": [
        {
          "output_type": "execute_result",
          "data": {
            "text/plain": [
              "78"
            ]
          },
          "metadata": {},
          "execution_count": 5
        }
      ]
    },
    {
      "cell_type": "code",
      "source": [
        "# We gonna take all the data for train ,excep the last 12 month that we gonna predict\n",
        "X_train = df[:66]\n",
        "X_test = df[66:]"
      ],
      "metadata": {
        "id": "m7aoy9B7fkhm"
      },
      "execution_count": null,
      "outputs": []
    },
    {
      "cell_type": "code",
      "source": [
        "# Next a really important part is to normalise our data\n",
        "from sklearn.preprocessing import MinMaxScaler\n",
        "scaler = MinMaxScaler()"
      ],
      "metadata": {
        "id": "wZABlGWxgrAV"
      },
      "execution_count": null,
      "outputs": []
    },
    {
      "cell_type": "code",
      "source": [
        "# now we use the scaler in both test and train\n",
        "scaler.fit(X_train)\n",
        "scaled_train = scaler.transform(X_train)\n",
        "scaled_test = scaler.transform(X_test)"
      ],
      "metadata": {
        "id": "0Si8BWS0hKNQ"
      },
      "execution_count": null,
      "outputs": []
    },
    {
      "cell_type": "markdown",
      "source": [
        "### 3 _ Creating our Time Series"
      ],
      "metadata": {
        "id": "TkL0mLfBhwBy"
      }
    },
    {
      "cell_type": "code",
      "source": [
        "# to generate out timeseries , we going to use the following Keras function\n",
        "from keras.preprocessing.sequence import TimeseriesGenerator"
      ],
      "metadata": {
        "id": "tdxjnm1YhajI"
      },
      "execution_count": null,
      "outputs": []
    },
    {
      "cell_type": "code",
      "source": [
        "# let's now define our generator\n",
        "n_input = 3\n",
        "n_features = 1\n",
        "generator = TimeseriesGenerator(\n",
        "                  scaled_train , \n",
        "                  scaled_train ,\n",
        "                  length = n_input,\n",
        "                  batch_size = n_features\n",
        "            )"
      ],
      "metadata": {
        "id": "GbhIFgdfiNRe"
      },
      "execution_count": null,
      "outputs": []
    },
    {
      "cell_type": "code",
      "source": [
        "# let's find out the size of the generator and train data\n",
        "print(len(generator) , len(scaled_train))"
      ],
      "metadata": {
        "colab": {
          "base_uri": "https://localhost:8080/"
        },
        "id": "zXWa2d6njJap",
        "outputId": "7ea7c64f-41cd-49b8-c6c8-c66e2c06d0cd"
      },
      "execution_count": null,
      "outputs": [
        {
          "output_type": "stream",
          "name": "stdout",
          "text": [
            "63 66\n"
          ]
        }
      ]
    },
    {
      "cell_type": "code",
      "source": [
        "# let's now understand the principe of generator \n",
        "X , Y = generator[1]\n",
        "print(f'Using This Array : {X} ')\n",
        "print(f'We Gonna using this as target : {Y}')"
      ],
      "metadata": {
        "colab": {
          "base_uri": "https://localhost:8080/"
        },
        "id": "l3XDEN0YjkLc",
        "outputId": "49970551-ad65-4ebf-81f7-ec0e7a65eae2"
      },
      "execution_count": null,
      "outputs": [
        {
          "output_type": "stream",
          "name": "stdout",
          "text": [
            "Using This Array : [[[0.02816901]\n",
            "  [0.30633803]\n",
            "  [0.36267606]]] \n",
            "We Gonna using this as target : [[0.61267606]]\n"
          ]
        }
      ]
    },
    {
      "cell_type": "code",
      "source": [
        "# but we need to predict a whole month which is 12 month\n",
        "n_input = 12\n",
        "generator = TimeseriesGenerator(\n",
        "                  scaled_train , \n",
        "                  scaled_train ,\n",
        "                  length = n_input,\n",
        "                  batch_size = n_features\n",
        "            )"
      ],
      "metadata": {
        "id": "SQLu39-akGnw"
      },
      "execution_count": null,
      "outputs": []
    },
    {
      "cell_type": "markdown",
      "source": [
        "### 4 _ Creating Our Model"
      ],
      "metadata": {
        "id": "VGWz-nNtkj2t"
      }
    },
    {
      "cell_type": "code",
      "source": [
        "# We all know that to create an LSTM model you are in need of keras library\n",
        "from keras.models import Sequential\n",
        "from keras.layers import Dense\n",
        "from keras.layers import LSTM"
      ],
      "metadata": {
        "id": "I91kMPIxk7oO"
      },
      "execution_count": null,
      "outputs": []
    },
    {
      "cell_type": "code",
      "source": [
        "# now we pass into define our models setting considering Layers , Hidden , Input/Output and more\n",
        "model = Sequential()\n",
        "model.add(\n",
        "    LSTM(\n",
        "        100 , \n",
        "        activation = 'relu',\n",
        "        input_shape = (n_input , n_features)\n",
        "    )\n",
        ")\n",
        "model.add(\n",
        "    Dense(1)\n",
        ")\n",
        "model.compile(\n",
        "    optimizer = 'adam',\n",
        "    loss = 'mse',\n",
        ")"
      ],
      "metadata": {
        "id": "Aqv6C6-ElOiN"
      },
      "execution_count": null,
      "outputs": []
    },
    {
      "cell_type": "code",
      "source": [
        "# Its better to present a summary of our own model\n",
        "model.summary()"
      ],
      "metadata": {
        "colab": {
          "base_uri": "https://localhost:8080/"
        },
        "id": "CXILfiXSmEYI",
        "outputId": "5b555d8a-dd0b-4595-e161-d0eb18efb43a"
      },
      "execution_count": null,
      "outputs": [
        {
          "output_type": "stream",
          "name": "stdout",
          "text": [
            "Model: \"sequential\"\n",
            "_________________________________________________________________\n",
            " Layer (type)                Output Shape              Param #   \n",
            "=================================================================\n",
            " lstm (LSTM)                 (None, 100)               40800     \n",
            "                                                                 \n",
            " dense (Dense)               (None, 1)                 101       \n",
            "                                                                 \n",
            "=================================================================\n",
            "Total params: 40,901\n",
            "Trainable params: 40,901\n",
            "Non-trainable params: 0\n",
            "_________________________________________________________________\n"
          ]
        }
      ]
    },
    {
      "cell_type": "code",
      "source": [
        "# Now the easiet Part , fit of our model\n",
        "model.fit(\n",
        "    generator , \n",
        "    epochs=50\n",
        "  )"
      ],
      "metadata": {
        "colab": {
          "base_uri": "https://localhost:8080/"
        },
        "id": "F6dOXzhxmK0m",
        "outputId": "d2a6bb12-edd8-4a37-d107-dfd298c0f838"
      },
      "execution_count": null,
      "outputs": [
        {
          "output_type": "stream",
          "name": "stdout",
          "text": [
            "Epoch 1/50\n",
            "54/54 [==============================] - 2s 6ms/step - loss: 0.0800\n",
            "Epoch 2/50\n",
            "54/54 [==============================] - 0s 6ms/step - loss: 0.0465\n",
            "Epoch 3/50\n",
            "54/54 [==============================] - 0s 7ms/step - loss: 0.0399\n",
            "Epoch 4/50\n",
            "54/54 [==============================] - 0s 5ms/step - loss: 0.0239\n",
            "Epoch 5/50\n",
            "54/54 [==============================] - 0s 6ms/step - loss: 0.0203\n",
            "Epoch 6/50\n",
            "54/54 [==============================] - 0s 6ms/step - loss: 0.0145\n",
            "Epoch 7/50\n",
            "54/54 [==============================] - 0s 6ms/step - loss: 0.0420\n",
            "Epoch 8/50\n",
            "54/54 [==============================] - 0s 6ms/step - loss: 0.0937\n",
            "Epoch 9/50\n",
            "54/54 [==============================] - 0s 6ms/step - loss: 0.0368\n",
            "Epoch 10/50\n",
            "54/54 [==============================] - 0s 6ms/step - loss: 0.0254\n",
            "Epoch 11/50\n",
            "54/54 [==============================] - 0s 6ms/step - loss: 0.0181\n",
            "Epoch 12/50\n",
            "54/54 [==============================] - 0s 6ms/step - loss: 0.0147\n",
            "Epoch 13/50\n",
            "54/54 [==============================] - 0s 6ms/step - loss: 0.0108\n",
            "Epoch 14/50\n",
            "54/54 [==============================] - 0s 6ms/step - loss: 0.0116\n",
            "Epoch 15/50\n",
            "54/54 [==============================] - 0s 6ms/step - loss: 0.0089\n",
            "Epoch 16/50\n",
            "54/54 [==============================] - 0s 6ms/step - loss: 0.0115\n",
            "Epoch 17/50\n",
            "54/54 [==============================] - 0s 6ms/step - loss: 0.0075\n",
            "Epoch 18/50\n",
            "54/54 [==============================] - 0s 6ms/step - loss: 0.0081\n",
            "Epoch 19/50\n",
            "54/54 [==============================] - 0s 6ms/step - loss: 0.0072\n",
            "Epoch 20/50\n",
            "54/54 [==============================] - 0s 6ms/step - loss: 0.0075\n",
            "Epoch 21/50\n",
            "54/54 [==============================] - 0s 6ms/step - loss: 0.0074\n",
            "Epoch 22/50\n",
            "54/54 [==============================] - 0s 6ms/step - loss: 0.0100\n",
            "Epoch 23/50\n",
            "54/54 [==============================] - 0s 6ms/step - loss: 0.0142\n",
            "Epoch 24/50\n",
            "54/54 [==============================] - 0s 6ms/step - loss: 0.0134\n",
            "Epoch 25/50\n",
            "54/54 [==============================] - 0s 6ms/step - loss: 0.0100\n",
            "Epoch 26/50\n",
            "54/54 [==============================] - 0s 6ms/step - loss: 0.0063\n",
            "Epoch 27/50\n",
            "54/54 [==============================] - 0s 6ms/step - loss: 0.0105\n",
            "Epoch 28/50\n",
            "54/54 [==============================] - 0s 6ms/step - loss: 0.0075\n",
            "Epoch 29/50\n",
            "54/54 [==============================] - 0s 6ms/step - loss: 0.0072\n",
            "Epoch 30/50\n",
            "54/54 [==============================] - 0s 6ms/step - loss: 0.0054\n",
            "Epoch 31/50\n",
            "54/54 [==============================] - 0s 6ms/step - loss: 0.0063\n",
            "Epoch 32/50\n",
            "54/54 [==============================] - 0s 6ms/step - loss: 0.0068\n",
            "Epoch 33/50\n",
            "54/54 [==============================] - 0s 6ms/step - loss: 0.0061\n",
            "Epoch 34/50\n",
            "54/54 [==============================] - 0s 6ms/step - loss: 0.0068\n",
            "Epoch 35/50\n",
            "54/54 [==============================] - 0s 6ms/step - loss: 0.0051\n",
            "Epoch 36/50\n",
            "54/54 [==============================] - 0s 6ms/step - loss: 0.0079\n",
            "Epoch 37/50\n",
            "54/54 [==============================] - 0s 6ms/step - loss: 0.0048\n",
            "Epoch 38/50\n",
            "54/54 [==============================] - 0s 9ms/step - loss: 0.0051\n",
            "Epoch 39/50\n",
            "54/54 [==============================] - 0s 8ms/step - loss: 0.0082\n",
            "Epoch 40/50\n",
            "54/54 [==============================] - 1s 12ms/step - loss: 0.0048\n",
            "Epoch 41/50\n",
            "54/54 [==============================] - 0s 8ms/step - loss: 0.0064\n",
            "Epoch 42/50\n",
            "54/54 [==============================] - 0s 6ms/step - loss: 0.0078\n",
            "Epoch 43/50\n",
            "54/54 [==============================] - 0s 6ms/step - loss: 0.0053\n",
            "Epoch 44/50\n",
            "54/54 [==============================] - 0s 6ms/step - loss: 0.0043\n",
            "Epoch 45/50\n",
            "54/54 [==============================] - 0s 6ms/step - loss: 0.0052\n",
            "Epoch 46/50\n",
            "54/54 [==============================] - 0s 6ms/step - loss: 0.0041\n",
            "Epoch 47/50\n",
            "54/54 [==============================] - 0s 6ms/step - loss: 0.0036\n",
            "Epoch 48/50\n",
            "54/54 [==============================] - 0s 7ms/step - loss: 0.0042\n",
            "Epoch 49/50\n",
            "54/54 [==============================] - 0s 6ms/step - loss: 0.0038\n",
            "Epoch 50/50\n",
            "54/54 [==============================] - 0s 6ms/step - loss: 0.0048\n"
          ]
        },
        {
          "output_type": "execute_result",
          "data": {
            "text/plain": [
              "<keras.callbacks.History at 0x7f9fb78aa6d0>"
            ]
          },
          "metadata": {},
          "execution_count": 19
        }
      ]
    },
    {
      "cell_type": "code",
      "source": [
        "# lets plot the cost function of our model\n",
        "loss = model.history.history['loss']\n",
        "plt.figure(figsize = (12 , 6))\n",
        "plt.plot(\n",
        "    range(len(loss)) , \n",
        "    loss\n",
        ")"
      ],
      "metadata": {
        "colab": {
          "base_uri": "https://localhost:8080/",
          "height": 392
        },
        "id": "toXdGnhGmbY8",
        "outputId": "5beb31fd-347a-4e47-b4ee-5b99feae3075"
      },
      "execution_count": null,
      "outputs": [
        {
          "output_type": "execute_result",
          "data": {
            "text/plain": [
              "[<matplotlib.lines.Line2D at 0x7f9fb5f76970>]"
            ]
          },
          "metadata": {},
          "execution_count": 20
        },
        {
          "output_type": "display_data",
          "data": {
            "text/plain": [
              "<Figure size 864x432 with 1 Axes>"
            ],
            "image/png": "[encoded data removed]"
          },
          "metadata": {
            "needs_background": "light"
          }
        }
      ]
    },
    {
      "cell_type": "markdown",
      "source": [
        "### 5 _ Evaluation Of Model"
      ],
      "metadata": {
        "id": "1ctxa5Qtn392"
      }
    },
    {
      "cell_type": "code",
      "source": [
        "# let's now try our model , we gonna give him the last 12 month of our train \n",
        "# and see if he gonna present a close result to the test\n",
        "last_train_data = scaled_train[-12:]\n",
        "last_train_data = last_train_data.reshape(\n",
        "    (1 , n_input , n_features)\n",
        "  )"
      ],
      "metadata": {
        "id": "hpHLU9YQnMWa"
      },
      "execution_count": null,
      "outputs": []
    },
    {
      "cell_type": "code",
      "source": [
        "Last_train_predict = model.predict(last_train_data)\n",
        "print(f\"Prediction : {Last_train_predict[0]}\")\n",
        "print(f\"Real Value : {scaled_test[0]}\")"
      ],
      "metadata": {
        "colab": {
          "base_uri": "https://localhost:8080/"
        },
        "id": "yO76Ddzuorsg",
        "outputId": "8a4693ab-f154-4107-81e1-e47e30fbbea7"
      },
      "execution_count": null,
      "outputs": [
        {
          "output_type": "stream",
          "name": "stdout",
          "text": [
            "1/1 [==============================] - 0s 196ms/step\n",
            "Prediction : [0.79489326]\n",
            "Real Value : [0.75352113]\n"
          ]
        }
      ]
    },
    {
      "cell_type": "code",
      "source": [
        "# now let's test the whole data\n",
        "test_prediction = []\n",
        "\n",
        "first_data = scaled_train[-n_input:]\n",
        "current_data = first_data.reshape((1 , n_input , n_features))\n",
        "\n",
        "for i in range(len(scaled_test)):\n",
        "  print(i)\n",
        "  # make the predection\n",
        "  current_pred = model.predict(current_data)[0]\n",
        "\n",
        "  # append prection result\n",
        "  test_prediction.append(current_pred)\n",
        "\n",
        "  # use the next data and so on\n",
        "  current_data = np.append(\n",
        "      current_data[: , 1: , :],rediction Total Bottal\n",
        "      [[current_pred]],\n",
        "      axis = 1\n",
        "  )"
      ],
      "metadata": {
        "colab": {
          "base_uri": "https://localhost:8080/"
        },
        "id": "uIiKGB6ZpCnz",
        "outputId": "776e1961-f20b-4b82-b958-d70e912a417a"
      },
      "execution_count": null,
      "outputs": [
        {
          "output_type": "stream",
          "name": "stdout",
          "text": [
            "0\n",
            "1/1 [==============================] - 0s 17ms/step\n",
            "1\n",
            "1/1 [==============================] - 0s 20ms/step\n",
            "2\n",
            "1/1 [==============================] - 0s 16ms/step\n",
            "3\n",
            "1/1 [==============================] - 0s 19ms/step\n",
            "4\n",
            "1/1 [==============================] - 0s 20ms/step\n",
            "5\n",
            "1/1 [==============================] - 0s 20ms/step\n",
            "6\n",
            "1/1 [==============================] - 0s 23ms/step\n",
            "7\n",
            "1/1 [==============================] - 0s 17ms/step\n",
            "8\n",
            "1/1 [==============================] - 0s 16ms/step\n",
            "9\n",
            "1/1 [==============================] - 0s 15ms/step\n",
            "10\n",
            "1/1 [==============================] - 0s 18ms/step\n",
            "11\n",
            "1/1 [==============================] - 0s 17ms/step\n"
          ]
        }
      ]
    },
    {
      "cell_type": "code",
      "source": [
        "# now we should inverse our scalled data\n",
        "Y_pred = scaler.inverse_transform(test_prediction)\n",
        "Y_test = scaler.inverse_transform(scaled_test)"
      ],
      "metadata": {
        "id": "Mm31gfhnrw_-"
      },
      "execution_count": null,
      "outputs": []
    },
    {
      "cell_type": "code",
      "source": [
        "# let's now add the test and prediction in one dataset\n",
        "X_test['Prediction Total Bottals'] = Y_pred\n",
        "X_test.head()"
      ],
      "metadata": {
        "colab": {
          "base_uri": "https://localhost:8080/",
          "height": 368
        },
        "id": "mKHKxtgXs8a7",
        "outputId": "204c1fe5-a7bb-47ef-e68c-827aad50134b"
      },
      "execution_count": null,
      "outputs": [
        {
          "output_type": "stream",
          "name": "stderr",
          "text": [
            "<ipython-input-25-150dff171595>:2: SettingWithCopyWarning: \n",
            "A value is trying to be set on a copy of a slice from a DataFrame.\n",
            "Try using .loc[row_indexer,col_indexer] = value instead\n",
            "\n",
            "See the caveats in the documentation: https://pandas.pydata.org/pandas-docs/stable/user_guide/indexing.html#returning-a-view-versus-a-copy\n",
            "  X_test['Prediction Total Bottals'] = Y_pred\n"
          ]
        },
        {
          "output_type": "execute_result",
          "data": {
            "text/plain": [
              "            total bottles_sold  Prediction Total Bottals\n",
              "date                                                    \n",
              "2021-09-01                 767                778.749687\n",
              "2021-10-01                 722                734.568848\n",
              "2021-11-01                 681                703.767407\n",
              "2021-12-01                 687                697.626014\n",
              "2022-02-01                 660                694.662334"
            ],
            "text/html": [
              "\n",
              "  <div id=\"df-90784d31-df4e-4dda-9afa-da3ceabbb45d\">\n",
              "    <div class=\"colab-df-container\">\n",
              "      <div>\n",
              "<style scoped>\n",
              "    .dataframe tbody tr th:only-of-type {\n",
              "        vertical-align: middle;\n",
              "    }\n",
              "\n",
              "    .dataframe tbody tr th {\n",
              "        vertical-align: top;\n",
              "    }\n",
              "\n",
              "    .dataframe thead th {\n",
              "        text-align: right;\n",
              "    }\n",
              "</style>\n",
              "<table border=\"1\" class=\"dataframe\">\n",
              "  <thead>\n",
              "    <tr style=\"text-align: right;\">\n",
              "      <th></th>\n",
              "      <th>total bottles_sold</th>\n",
              "      <th>Prediction Total Bottals</th>\n",
              "    </tr>\n",
              "    <tr>\n",
              "      <th>date</th>\n",
              "      <th></th>\n",
              "      <th></th>\n",
              "    </tr>\n",
              "  </thead>\n",
              "  <tbody>\n",
              "    <tr>\n",
              "      <th>2021-09-01</th>\n",
              "      <td>767</td>\n",
              "      <td>778.749687</td>\n",
              "    </tr>\n",
              "    <tr>\n",
              "      <th>2021-10-01</th>\n",
              "      <td>722</td>\n",
              "      <td>734.568848</td>\n",
              "    </tr>\n",
              "    <tr>\n",
              "      <th>2021-11-01</th>\n",
              "      <td>681</td>\n",
              "      <td>703.767407</td>\n",
              "    </tr>\n",
              "    <tr>\n",
              "      <th>2021-12-01</th>\n",
              "      <td>687</td>\n",
              "      <td>697.626014</td>\n",
              "    </tr>\n",
              "    <tr>\n",
              "      <th>2022-02-01</th>\n",
              "      <td>660</td>\n",
              "      <td>694.662334</td>\n",
              "    </tr>\n",
              "  </tbody>\n",
              "</table>\n",
              "</div>\n",
              "      <button class=\"colab-df-convert\" onclick=\"convertToInteractive('df-90784d31-df4e-4dda-9afa-da3ceabbb45d')\"\n",
              "              title=\"Convert this dataframe to an interactive table.\"\n",
              "              style=\"display:none;\">\n",
              "        \n",
              "  <svg xmlns=\"http://www.w3.org/2000/svg\" height=\"24px\"viewBox=\"0 0 24 24\"\n",
              "       width=\"24px\">\n",
              "    <path d=\"M0 0h24v24H0V0z\" fill=\"none\"/>\n",
              "    <path d=\"M18.56 5.44l.94 2.06.94-2.06 2.06-.94-2.06-.94-.94-2.06-.94 2.06-2.06.94zm-11 1L8.5 8.5l.94-2.06 2.06-.94-2.06-.94L8.5 2.5l-.94 2.06-2.06.94zm10 10l.94 2.06.94-2.06 2.06-.94-2.06-.94-.94-2.06-.94 2.06-2.06.94z\"/><path d=\"M17.41 7.96l-1.37-1.37c-.4-.4-.92-.59-1.43-.59-.52 0-1.04.2-1.43.59L10.3 9.45l-7.72 7.72c-.78.78-.78 2.05 0 2.83L4 21.41c.39.39.9.59 1.41.59.51 0 1.02-.2 1.41-.59l7.78-7.78 2.81-2.81c.8-.78.8-2.07 0-2.86zM5.41 20L4 18.59l7.72-7.72 1.47 1.35L5.41 20z\"/>\n",
              "  </svg>\n",
              "      </button>\n",
              "      \n",
              "  <style>\n",
              "    .colab-df-container {\n",
              "      display:flex;\n",
              "      flex-wrap:wrap;\n",
              "      gap: 12px;\n",
              "    }\n",
              "\n",
              "    .colab-df-convert {\n",
              "      background-color: #E8F0FE;\n",
              "      border: none;\n",
              "      border-radius: 50%;\n",
              "      cursor: pointer;\n",
              "      display: none;\n",
              "      fill: #1967D2;\n",
              "      height: 32px;\n",
              "      padding: 0 0 0 0;\n",
              "      width: 32px;\n",
              "    }\n",
              "\n",
              "    .colab-df-convert:hover {\n",
              "      background-color: #E2EBFA;\n",
              "      box-shadow: 0px 1px 2px rgba(60, 64, 67, 0.3), 0px 1px 3px 1px rgba(60, 64, 67, 0.15);\n",
              "      fill: #174EA6;\n",
              "    }\n",
              "\n",
              "    [theme=dark] .colab-df-convert {\n",
              "      background-color: #3B4455;\n",
              "      fill: #D2E3FC;\n",
              "    }\n",
              "\n",
              "    [theme=dark] .colab-df-convert:hover {\n",
              "      background-color: #434B5C;\n",
              "      box-shadow: 0px 1px 3px 1px rgba(0, 0, 0, 0.15);\n",
              "      filter: drop-shadow(0px 1px 2px rgba(0, 0, 0, 0.3));\n",
              "      fill: #FFFFFF;\n",
              "    }\n",
              "  </style>\n",
              "\n",
              "      <script>\n",
              "        const buttonEl =\n",
              "          document.querySelector('#df-90784d31-df4e-4dda-9afa-da3ceabbb45d button.colab-df-convert');\n",
              "        buttonEl.style.display =\n",
              "          google.colab.kernel.accessAllowed ? 'block' : 'none';\n",
              "\n",
              "        async function convertToInteractive(key) {\n",
              "          const element = document.querySelector('#df-90784d31-df4e-4dda-9afa-da3ceabbb45d');\n",
              "          const dataTable =\n",
              "            await google.colab.kernel.invokeFunction('convertToInteractive',\n",
              "                                                     [key], {});\n",
              "          if (!dataTable) return;\n",
              "\n",
              "          const docLinkHtml = 'Like what you see? Visit the ' +\n",
              "            '<a target=\"_blank\" href=https://colab.research.google.com/notebooks/data_table.ipynb>data table notebook</a>'\n",
              "            + ' to learn more about interactive tables.';\n",
              "          element.innerHTML = '';\n",
              "          dataTable['output_type'] = 'display_data';\n",
              "          await google.colab.output.renderOutput(dataTable, element);\n",
              "          const docLink = document.createElement('div');\n",
              "          docLink.innerHTML = docLinkHtml;\n",
              "          element.appendChild(docLink);\n",
              "        }\n",
              "      </script>\n",
              "    </div>\n",
              "  </div>\n",
              "  "
            ]
          },
          "metadata": {},
          "execution_count": 25
        }
      ]
    },
    {
      "cell_type": "code",
      "source": [
        "# Let's plot our test with prediction data\n",
        "X_test.plot(figsize = (12 , 6))"
      ],
      "metadata": {
        "colab": {
          "base_uri": "https://localhost:8080/",
          "height": 393
        },
        "id": "uD8tsyVauc-w",
        "outputId": "e00b71f6-05d6-4cd9-db91-7c613478e457"
      },
      "execution_count": null,
      "outputs": [
        {
          "output_type": "execute_result",
          "data": {
            "text/plain": [
              "<matplotlib.axes._subplots.AxesSubplot at 0x7f9fb5f8ca30>"
            ]
          },
          "metadata": {},
          "execution_count": 26
        },
        {
          "output_type": "display_data",
          "data": {
            "text/plain": [
              "<Figure size 864x432 with 1 Axes>"
            ],
            "image/png": "[encoded data removed]"
          },
          "metadata": {
            "needs_background": "light"
          }
        }
      ]
    },
    {
      "cell_type": "code",
      "source": [],
      "metadata": {
        "id": "oIEmA0lAHoB7"
      },
      "execution_count": null,
      "outputs": []
    }
  ]
}