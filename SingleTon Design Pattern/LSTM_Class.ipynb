{
  "nbformat": 4,
  "nbformat_minor": 0,
  "metadata": {
    "colab": {
      "provenance": [],
      "toc_visible": true
    },
    "kernelspec": {
      "name": "python3",
      "display_name": "Python 3"
    },
    "language_info": {
      "name": "python"
    }
  },
  "cells": [
    {
      "cell_type": "code",
      "source": [
        "# import requireds\n",
        "from sklearn.preprocessing import MinMaxScaler\n",
        "import pandas as pd\n",
        "import numpy as np\n",
        "import matplotlib.pyplot as plt\n",
        "from keras.preprocessing.sequence import TimeseriesGenerator"
      ],
      "metadata": {
        "id": "PjvkSUlr7nKm"
      },
      "execution_count": null,
      "outputs": []
    },
    {
      "cell_type": "code",
      "source": [
        "# Import model librarys\n",
        "from keras.models import Sequential\n",
        "from keras.layers import Dense\n",
        "from keras.layers import LSTM"
      ],
      "metadata": {
        "id": "u4WkToT18SHD"
      },
      "execution_count": null,
      "outputs": []
    },
    {
      "cell_type": "code",
      "execution_count": null,
      "metadata": {
        "id": "Q3Kcigzr7E3l"
      },
      "outputs": [],
      "source": [
        "# Creating our Single Tron LSTM model\n",
        "class LSTM_Prediction():\n",
        "\n",
        "  # Define our variables\n",
        "  def __init__(self , path):\n",
        "\n",
        "    self.df = pd.read_csv(path, index_col = 'date' , parse_dates=True)\n",
        "    self.df.drop(['year' , 'specefic_date' ,'total state_bottle_cost' , 'total state_bottle_retail' , 'total sale_dollars' , 'total volume_sold_liters'],axis = 1, inplace = True)\n",
        "    self.X_train = self.df[:(len(self.df)-12)]\n",
        "    self.X_test = self.df[(len(self.df)-12):]\n",
        "    self.scaler = MinMaxScaler().fit(self.X_train)\n",
        "    self.n_input = 12\n",
        "    self.n_features = 1\n",
        "\n",
        "  # Use the Min Max Scalling parameter\n",
        "  def scale_data(self):\n",
        "    self.scaled_train = self.scaler.transform(self.X_train)\n",
        "\n",
        "  # Generate our Time Series\n",
        "  def create_generator(self):\n",
        "\n",
        "    self.scale_data()\n",
        "\n",
        "    self.generator = TimeseriesGenerator(\n",
        "                  self.scaled_train , \n",
        "                  self.scaled_train ,\n",
        "                  length = self.n_input,\n",
        "                  batch_size = self.n_features\n",
        "            )\n",
        "  \n",
        "  # Creating of our lstm model\n",
        "  def create_lstm_model(self):\n",
        "\n",
        "    self.create_generator()\n",
        "\n",
        "    self.model = Sequential()\n",
        "    self.model.add(LSTM(100 , activation = 'relu',input_shape = (self.n_input , self.n_features)))\n",
        "    self.model.add(Dense(1))\n",
        "    self.model.compile(optimizer = 'adam',loss = 'mse',)\n",
        "    self.model.fit(self.generator ,  epochs=50)\n",
        "\n",
        "  # making future prediction\n",
        "  def future_prediction(self):\n",
        "\n",
        "    self.create_lstm_model()\n",
        "\n",
        "    self.test_prediction = []\n",
        "    first_data = self.scaled_train[-self.n_input:]\n",
        "    current_data = first_data.reshape((1 , self.n_input , self.n_features))\n",
        "\n",
        "    for i in range(12):\n",
        "\n",
        "      current_pred = self.model.predict(current_data)[0]\n",
        "      self.test_prediction.append(current_pred)\n",
        "      current_data = np.append(current_data[: , 1: , :], [[current_pred]],axis = 1)\n",
        "  \n",
        "  # save our lstm model as h5\n",
        "  def save_model(self):\n",
        "\n",
        "      self.model.save('/content/LSTM_model.h5')  \n",
        "\n",
        "  # make plot of our prediction\n",
        "  def make_plot(self):\n",
        "\n",
        "      self.future_prediction()\n",
        "\n",
        "      Y_pred = self.scaler.inverse_transform(self.test_prediction)\n",
        "      self.X_test['Prediction dollars'] = Y_pred\n",
        "      self.X_test.plot(figsize = (12 , 6))"
      ]
    },
    {
      "cell_type": "code",
      "source": [
        "# instanciation and using our class\n",
        "lstm = LSTM_Prediction('/content/data.csv')\n",
        "lstm.make_plot()"
      ],
      "metadata": {
        "id": "YAPkDepkB8qF",
        "colab": {
          "base_uri": "https://localhost:8080/",
          "height": 1000
        },
        "outputId": "f28e16bb-2676-4610-cc5e-0eecd831d36e"
      },
      "execution_count": null,
      "outputs": [
        {
          "output_type": "stream",
          "name": "stdout",
          "text": [
            "Epoch 1/50\n",
            "54/54 [==============================] - 5s 19ms/step - loss: 0.0933\n",
            "Epoch 2/50\n",
            "54/54 [==============================] - 1s 17ms/step - loss: 0.0536\n",
            "Epoch 3/50\n",
            "54/54 [==============================] - 1s 9ms/step - loss: 0.0398\n",
            "Epoch 4/50\n",
            "54/54 [==============================] - 0s 8ms/step - loss: 0.0294\n",
            "Epoch 5/50\n",
            "54/54 [==============================] - 0s 9ms/step - loss: 0.0232\n",
            "Epoch 6/50\n",
            "54/54 [==============================] - 0s 9ms/step - loss: 0.0220\n",
            "Epoch 7/50\n",
            "54/54 [==============================] - 0s 9ms/step - loss: 0.0151\n",
            "Epoch 8/50\n",
            "54/54 [==============================] - 1s 10ms/step - loss: 0.0236\n",
            "Epoch 9/50\n",
            "54/54 [==============================] - 0s 9ms/step - loss: 0.0179\n",
            "Epoch 10/50\n",
            "54/54 [==============================] - 1s 10ms/step - loss: 0.0086\n",
            "Epoch 11/50\n",
            "54/54 [==============================] - 0s 8ms/step - loss: 0.0090\n",
            "Epoch 12/50\n",
            "54/54 [==============================] - 0s 8ms/step - loss: 0.0096\n",
            "Epoch 13/50\n",
            "54/54 [==============================] - 0s 9ms/step - loss: 0.0113\n",
            "Epoch 14/50\n",
            "54/54 [==============================] - 0s 9ms/step - loss: 0.0199\n",
            "Epoch 15/50\n",
            "54/54 [==============================] - 0s 8ms/step - loss: 0.0067\n",
            "Epoch 16/50\n",
            "54/54 [==============================] - 0s 8ms/step - loss: 0.0054\n",
            "Epoch 17/50\n",
            "54/54 [==============================] - 0s 9ms/step - loss: 0.0050\n",
            "Epoch 18/50\n",
            "54/54 [==============================] - 0s 9ms/step - loss: 0.0056\n",
            "Epoch 19/50\n",
            "54/54 [==============================] - 1s 10ms/step - loss: 0.0044\n",
            "Epoch 20/50\n",
            "54/54 [==============================] - 0s 9ms/step - loss: 0.0042\n",
            "Epoch 21/50\n",
            "54/54 [==============================] - 0s 8ms/step - loss: 0.0043\n",
            "Epoch 22/50\n",
            "54/54 [==============================] - 0s 9ms/step - loss: 0.0046\n",
            "Epoch 23/50\n",
            "54/54 [==============================] - 0s 9ms/step - loss: 0.0040\n",
            "Epoch 24/50\n",
            "54/54 [==============================] - 0s 8ms/step - loss: 0.0044\n",
            "Epoch 25/50\n",
            "54/54 [==============================] - 1s 9ms/step - loss: 0.0041\n",
            "Epoch 26/50\n",
            "54/54 [==============================] - 0s 9ms/step - loss: 0.0050\n",
            "Epoch 27/50\n",
            "54/54 [==============================] - 1s 9ms/step - loss: 0.0052\n",
            "Epoch 28/50\n",
            "54/54 [==============================] - 0s 8ms/step - loss: 0.0038\n",
            "Epoch 29/50\n",
            "54/54 [==============================] - 0s 9ms/step - loss: 0.0035\n",
            "Epoch 30/50\n",
            "54/54 [==============================] - 0s 8ms/step - loss: 0.0046\n",
            "Epoch 31/50\n",
            "54/54 [==============================] - 0s 8ms/step - loss: 0.0045\n",
            "Epoch 32/50\n",
            "54/54 [==============================] - 0s 9ms/step - loss: 0.0039\n",
            "Epoch 33/50\n",
            "54/54 [==============================] - 0s 8ms/step - loss: 0.0031\n",
            "Epoch 34/50\n",
            "54/54 [==============================] - 0s 8ms/step - loss: 0.0038\n",
            "Epoch 35/50\n",
            "54/54 [==============================] - 0s 8ms/step - loss: 0.0041\n",
            "Epoch 36/50\n",
            "54/54 [==============================] - 0s 9ms/step - loss: 0.0029\n",
            "Epoch 37/50\n",
            "54/54 [==============================] - 0s 8ms/step - loss: 0.0062\n",
            "Epoch 38/50\n",
            "54/54 [==============================] - 1s 9ms/step - loss: 0.0048\n",
            "Epoch 39/50\n",
            "54/54 [==============================] - 0s 8ms/step - loss: 0.0048\n",
            "Epoch 40/50\n",
            "54/54 [==============================] - 1s 9ms/step - loss: 0.0032\n",
            "Epoch 41/50\n",
            "54/54 [==============================] - 0s 9ms/step - loss: 0.0029\n",
            "Epoch 42/50\n",
            "54/54 [==============================] - 1s 10ms/step - loss: 0.0032\n",
            "Epoch 43/50\n",
            "54/54 [==============================] - 1s 10ms/step - loss: 0.0031\n",
            "Epoch 44/50\n",
            "54/54 [==============================] - 0s 8ms/step - loss: 0.0031\n",
            "Epoch 45/50\n",
            "54/54 [==============================] - 0s 9ms/step - loss: 0.0029\n",
            "Epoch 46/50\n",
            "54/54 [==============================] - 0s 8ms/step - loss: 0.0037\n",
            "Epoch 47/50\n",
            "54/54 [==============================] - 1s 9ms/step - loss: 0.0034\n",
            "Epoch 48/50\n",
            "54/54 [==============================] - 0s 9ms/step - loss: 0.0045\n",
            "Epoch 49/50\n",
            "54/54 [==============================] - 0s 8ms/step - loss: 0.0031\n",
            "Epoch 50/50\n",
            "54/54 [==============================] - 0s 8ms/step - loss: 0.0050\n",
            "1/1 [==============================] - 0s 246ms/step\n",
            "1/1 [==============================] - 0s 22ms/step\n",
            "1/1 [==============================] - 0s 28ms/step\n",
            "1/1 [==============================] - 0s 40ms/step\n",
            "1/1 [==============================] - 0s 23ms/step\n",
            "1/1 [==============================] - 0s 29ms/step\n",
            "1/1 [==============================] - 0s 24ms/step\n",
            "1/1 [==============================] - 0s 23ms/step\n",
            "1/1 [==============================] - 0s 23ms/step\n",
            "1/1 [==============================] - 0s 23ms/step\n",
            "1/1 [==============================] - 0s 22ms/step\n",
            "1/1 [==============================] - 0s 22ms/step\n"
          ]
        },
        {
          "output_type": "stream",
          "name": "stderr",
          "text": [
            "<ipython-input-3-cfc9444b9e28>:68: SettingWithCopyWarning: \n",
            "A value is trying to be set on a copy of a slice from a DataFrame.\n",
            "Try using .loc[row_indexer,col_indexer] = value instead\n",
            "\n",
            "See the caveats in the documentation: https://pandas.pydata.org/pandas-docs/stable/user_guide/indexing.html#returning-a-view-versus-a-copy\n",
            "  self.X_test['Prediction dollars'] = Y_pred\n"
          ]
        },
        {
          "output_type": "display_data",
          "data": {
            "text/plain": [
              "<Figure size 864x432 with 1 Axes>"
            ],
            "image/png": "[encoded data removed]"
          },
          "metadata": {
            "needs_background": "light"
          }
        }
      ]
    },
    {
      "cell_type": "code",
      "source": [
        "# Save Our Figure\n",
        "lstm.save_model()"
      ],
      "metadata": {
        "id": "DRpzQw5bAtYr"
      },
      "execution_count": null,
      "outputs": []
    },
    {
      "cell_type": "code",
      "source": [
        "from keras.models import load_model\n",
        "\n",
        "df = pd.read_csv('/content/data_new.csv' ,index_col = 'date' , parse_dates=True)\n",
        "n_input = 12\n",
        "n_features = 1\n",
        "model = load_model('/content/LSTM_model.h5')"
      ],
      "metadata": {
        "id": "BepGt2TTW_bk"
      },
      "execution_count": null,
      "outputs": []
    },
    {
      "cell_type": "code",
      "source": [
        "first_data = df[(len(df)-12):]\n",
        "scaler = MinMaxScaler().fit(first_data)\n",
        "first_data = scaler.transform(first_data)[-n_input:]"
      ],
      "metadata": {
        "id": "QweEGVJWY9zs"
      },
      "execution_count": null,
      "outputs": []
    },
    {
      "cell_type": "code",
      "source": [
        "# lets now make some prediction\n",
        "test_prediction = []\n",
        "\n",
        "first_data = first_data\n",
        "current_data = first_data.reshape((1 , n_input , n_features))\n",
        "\n",
        "for i in range(12):\n",
        "  # make the predection\n",
        "  current_pred = model.predict(current_data)[0]\n",
        "\n",
        "  # append prection result\n",
        "  test_prediction.append(current_pred)\n",
        "\n",
        "  # use the next data and so on\n",
        "  current_data = np.append(\n",
        "      current_data[: , 1: , :],\n",
        "      [[current_pred]],\n",
        "      axis = 1\n",
        "  )"
      ],
      "metadata": {
        "id": "c6h7nhd_PJEk",
        "colab": {
          "base_uri": "https://localhost:8080/"
        },
        "outputId": "bd21e0ca-4e37-4954-8515-4d095e86afe0"
      },
      "execution_count": null,
      "outputs": [
        {
          "output_type": "stream",
          "name": "stdout",
          "text": [
            "1/1 [==============================] - 0s 126ms/step\n",
            "1/1 [==============================] - 0s 16ms/step\n",
            "1/1 [==============================] - 0s 17ms/step\n",
            "1/1 [==============================] - 0s 13ms/step\n",
            "1/1 [==============================] - 0s 14ms/step\n",
            "1/1 [==============================] - 0s 14ms/step\n",
            "1/1 [==============================] - 0s 13ms/step\n",
            "1/1 [==============================] - 0s 13ms/step\n",
            "1/1 [==============================] - 0s 13ms/step\n",
            "1/1 [==============================] - 0s 13ms/step\n",
            "1/1 [==============================] - 0s 13ms/step\n",
            "1/1 [==============================] - 0s 14ms/step\n"
          ]
        }
      ]
    },
    {
      "cell_type": "code",
      "source": [
        "data = scaler.inverse_transform(test_prediction)\n",
        "data"
      ],
      "metadata": {
        "colab": {
          "base_uri": "https://localhost:8080/"
        },
        "id": "9-vx5sYsZe3r",
        "outputId": "0e1bd92a-b42b-4a96-ad8a-358003020fcd"
      },
      "execution_count": null,
      "outputs": [
        {
          "output_type": "execute_result",
          "data": {
            "text/plain": [
              "array([[825.10176229],\n",
              "       [771.66282034],\n",
              "       [722.67784148],\n",
              "       [723.04571879],\n",
              "       [715.29743546],\n",
              "       [731.98106629],\n",
              "       [747.86687136],\n",
              "       [762.82274222],\n",
              "       [820.34569287],\n",
              "       [858.75209999],\n",
              "       [903.33654213],\n",
              "       [907.59564114]])"
            ]
          },
          "metadata": {},
          "execution_count": 39
        }
      ]
    }
  ]
}